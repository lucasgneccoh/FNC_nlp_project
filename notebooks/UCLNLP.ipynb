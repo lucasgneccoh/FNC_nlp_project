{
  "nbformat": 4,
  "nbformat_minor": 0,
  "metadata": {
    "colab": {
      "name": "UCLNLP.ipynb",
      "provenance": [],
      "collapsed_sections": [
        "tTU8mcEZ76UR"
      ],
      "toc_visible": true,
      "include_colab_link": true
    },
    "kernelspec": {
      "name": "python3",
      "display_name": "Python 3"
    }
  },
  "cells": [
    {
      "cell_type": "markdown",
      "metadata": {
        "id": "view-in-github",
        "colab_type": "text"
      },
      "source": [
        "<a href=\"https://colab.research.google.com/github/lucasgneccoh/FNC_nlp_project/blob/main/notebooks/UCLNLP.ipynb\" target=\"_parent\"><img src=\"https://colab.research.google.com/assets/colab-badge.svg\" alt=\"Open In Colab\"/></a>"
      ]
    },
    {
      "cell_type": "markdown",
      "metadata": {
        "id": "KriImKeF2bC_"
      },
      "source": [
        "# Imports"
      ]
    },
    {
      "cell_type": "code",
      "metadata": {
        "colab": {
          "base_uri": "https://localhost:8080/"
        },
        "id": "AokobFLV1vKW",
        "outputId": "3be81df2-cfb8-4153-e66f-4744e7584cb5"
      },
      "source": [
        "import os\n",
        "%cd /content\n",
        "!git clone https://github.com/lucasgneccoh/FNC_nlp_project.git\n",
        "\n",
        "os.chdir(\"/content/FNC_nlp_project\")"
      ],
      "execution_count": 1,
      "outputs": [
        {
          "output_type": "stream",
          "text": [
            "/content\n",
            "fatal: destination path 'FNC_nlp_project' already exists and is not an empty directory.\n"
          ],
          "name": "stdout"
        }
      ]
    },
    {
      "cell_type": "code",
      "metadata": {
        "id": "AWdvcT5Y1vFh"
      },
      "source": [
        "from sklearn.feature_extraction.text import CountVectorizer\n",
        "from sklearn.feature_extraction.text import TfidfTransformer\n",
        "from sklearn.feature_extraction.text import TfidfVectorizer\n",
        "from sklearn.metrics.pairwise import cosine_similarity\n",
        "import numpy as np\n",
        "import random\n",
        "import tensorflow as tf\n",
        "import tensorflow.keras as keras\n",
        "from tqdm.notebook import tqdm\n",
        "import pandas as pd\n",
        "import matplotlib.pyplot as plt"
      ],
      "execution_count": 2,
      "outputs": []
    },
    {
      "cell_type": "markdown",
      "metadata": {
        "id": "1NpLAbjL7bp3"
      },
      "source": [
        "# Data"
      ]
    },
    {
      "cell_type": "markdown",
      "metadata": {
        "id": "tTU8mcEZ76UR"
      },
      "source": [
        "## Loading data"
      ]
    },
    {
      "cell_type": "code",
      "metadata": {
        "id": "E9tPzkim1u8z"
      },
      "source": [
        "train_bodies = pd.read_csv('data/FNC_data/train_bodies.csv') # BodyID, Body\n",
        "train_stances = pd.read_csv('data/FNC_data/train_stances.csv') # Headline, BodyID, Stance\n",
        "\n",
        "test_bodies = pd.read_csv('data/FNC_data/competition_test_bodies.csv') # BodyID, Body\n",
        "test_stances = pd.read_csv('data/FNC_data/competition_test_stances.csv') # Headline, BodyID, Stance"
      ],
      "execution_count": 3,
      "outputs": []
    },
    {
      "cell_type": "markdown",
      "metadata": {
        "id": "stU9VDSkNJZ6"
      },
      "source": [
        "## Data preprocessing\n",
        "\n",
        "we want to create our vectorised representations of the training and test sets\n",
        "\n",
        "So first we set the stop words, normalising the tables,then calculating the tf and tfidf representations"
      ]
    },
    {
      "cell_type": "code",
      "metadata": {
        "id": "1vcnhdv50kRu"
      },
      "source": [
        "# data preprocessing parameters\n",
        "lim_unigram = 5000\n",
        "stop_words = [\n",
        "        \"a\", \"about\", \"above\", \"across\", \"after\", \"afterwards\", \"again\", \"against\", \"all\", \"almost\", \"alone\", \"along\",\n",
        "        \"already\", \"also\", \"although\", \"always\", \"am\", \"among\", \"amongst\", \"amoungst\", \"amount\", \"an\", \"and\", \"another\",\n",
        "        \"any\", \"anyhow\", \"anyone\", \"anything\", \"anyway\", \"anywhere\", \"are\", \"around\", \"as\", \"at\", \"back\", \"be\",\n",
        "        \"became\", \"because\", \"become\", \"becomes\", \"becoming\", \"been\", \"before\", \"beforehand\", \"behind\", \"being\",\n",
        "        \"below\", \"beside\", \"besides\", \"between\", \"beyond\", \"bill\", \"both\", \"bottom\", \"but\", \"by\", \"call\", \"can\", \"co\",\n",
        "        \"con\", \"could\", \"cry\", \"de\", \"describe\", \"detail\", \"do\", \"done\", \"down\", \"due\", \"during\", \"each\", \"eg\", \"eight\",\n",
        "        \"either\", \"eleven\", \"else\", \"elsewhere\", \"empty\", \"enough\", \"etc\", \"even\", \"ever\", \"every\", \"everyone\",\n",
        "        \"everything\", \"everywhere\", \"except\", \"few\", \"fifteen\", \"fifty\", \"fill\", \"find\", \"fire\", \"first\", \"five\", \"for\",\n",
        "        \"former\", \"formerly\", \"forty\", \"found\", \"four\", \"from\", \"front\", \"full\", \"further\", \"get\", \"give\", \"go\", \"had\",\n",
        "        \"has\", \"have\", \"he\", \"hence\", \"her\", \"here\", \"hereafter\", \"hereby\", \"herein\", \"hereupon\", \"hers\", \"herself\",\n",
        "        \"him\", \"himself\", \"his\", \"how\", \"however\", \"hundred\", \"i\", \"ie\", \"if\", \"in\", \"inc\", \"indeed\", \"interest\",\n",
        "        \"into\", \"is\", \"it\", \"its\", \"itself\", \"keep\", \"last\", \"latter\", \"latterly\", \"least\", \"less\", \"ltd\", \"made\",\n",
        "        \"many\", \"may\", \"me\", \"meanwhile\", \"might\", \"mill\", \"mine\", \"more\", \"moreover\", \"most\", \"mostly\", \"move\", \"much\",\n",
        "        \"must\", \"my\", \"myself\", \"name\", \"namely\", \"neither\", \"nevertheless\", \"next\", \"nine\", \"nobody\", \"now\", \"nowhere\",\n",
        "        \"of\", \"off\", \"often\", \"on\", \"once\", \"one\", \"only\", \"onto\", \"or\", \"other\", \"others\", \"otherwise\", \"our\", \"ours\",\n",
        "        \"ourselves\", \"out\", \"over\", \"own\", \"part\", \"per\", \"perhaps\", \"please\", \"put\", \"rather\", \"re\", \"same\", \"see\",\n",
        "        \"serious\", \"several\", \"she\", \"should\", \"show\", \"side\", \"since\", \"sincere\", \"six\", \"sixty\", \"so\", \"some\",\n",
        "        \"somehow\", \"someone\", \"something\", \"sometime\", \"sometimes\", \"somewhere\", \"still\", \"such\", \"system\", \"take\",\n",
        "        \"ten\", \"than\", \"that\", \"the\", \"their\", \"them\", \"themselves\", \"then\", \"thence\", \"there\", \"thereafter\", \"thereby\",\n",
        "        \"therefore\", \"therein\", \"thereupon\", \"these\", \"they\", \"thick\", \"thin\", \"third\", \"this\", \"those\", \"though\",\n",
        "        \"three\", \"through\", \"throughout\", \"thru\", \"thus\", \"to\", \"together\", \"too\", \"top\", \"toward\", \"towards\", \"twelve\",\n",
        "        \"twenty\", \"two\", \"un\", \"under\", \"until\", \"up\", \"upon\", \"us\", \"very\", \"via\", \"was\", \"we\", \"well\", \"were\", \"what\",\n",
        "        \"whatever\", \"when\", \"whence\", \"whenever\", \"where\", \"whereafter\", \"whereas\", \"whereby\", \"wherein\", \"whereupon\",\n",
        "        \"wherever\", \"whether\", \"which\", \"while\", \"whither\", \"who\", \"whoever\", \"whole\", \"whom\", \"whose\", \"why\", \"will\",\n",
        "        \"with\", \"within\", \"without\", \"would\", \"yet\", \"you\", \"your\", \"yours\", \"yourself\", \"yourselves\"\n",
        "        ]"
      ],
      "execution_count": 4,
      "outputs": []
    },
    {
      "cell_type": "markdown",
      "metadata": {
        "id": "Hm-RpF8Y8RK8"
      },
      "source": [
        "We process the data in normalized tables (pandas Dataframes and Series)  \n",
        "In the end we have 3 objects for the train set and 3 for the test set  \n",
        "if X is 'train' or 'test', we have:  \n",
        "- X_headlines: Series with the headlines   \n",
        "- X_bodies: Series with the bodies\n",
        "- X_stances: relation table with the X_healine and X_bodies indexes ('head id' and 'body id') and the labels ('stance')"
      ]
    },
    {
      "cell_type": "code",
      "metadata": {
        "id": "KYRavp0FA24M"
      },
      "source": [
        "cat = pd.Categorical(train_stances['Headline'])\n",
        "train_headlines = pd.Series(cat.categories,name='headline')\n",
        "train_stances['head id'] = cat.codes\n",
        "train_stances = train_stances.drop(columns='Headline')\n",
        "\n",
        "cat = pd.Categorical(train_stances['Body ID'])\n",
        "train_bodies = pd.Series([train_bodies['articleBody'][(train_bodies['Body ID'] == i)].values[0] for i in cat.categories]\n",
        "    ,name='article body')\n",
        "train_stances['body id'] = cat.codes\n",
        "train_stances = train_stances.drop(columns='Body ID')\n",
        "\n",
        "cat = pd.Categorical(train_stances['Stance'])\n",
        "stances = pd.Series(cat.categories,name='stance')\n",
        "train_stances['stance'] = cat.codes\n",
        "train_stances = train_stances.drop(columns='Stance')\n",
        "\n",
        "cat = pd.Categorical(test_stances['Headline'])\n",
        "test_headlines = pd.Series(cat.categories,name='headline')\n",
        "test_stances['head id'] = cat.codes\n",
        "test_stances = test_stances.drop(columns='Headline')\n",
        "\n",
        "cat = pd.Categorical(test_stances['Body ID'])\n",
        "test_bodies = pd.Series([test_bodies['articleBody'][(test_bodies['Body ID'] == i)].values[0] for i in cat.categories]\n",
        "    ,name='article body')\n",
        "test_stances['body id'] = cat.codes\n",
        "test_stances = test_stances.drop(columns='Body ID')\n",
        "\n",
        "cat = pd.Categorical(test_stances['Stance'], categories = stances)\n",
        "test_stances['stance'] = cat.codes\n",
        "test_stances = test_stances.drop(columns='Stance')\n"
      ],
      "execution_count": 5,
      "outputs": []
    },
    {
      "cell_type": "markdown",
      "metadata": {
        "id": "OHh4tNuE86Ek"
      },
      "source": [
        "Now we create vectorizers and BOW and TF arrays for train set"
      ]
    },
    {
      "cell_type": "code",
      "metadata": {
        "id": "crb89GnG9CY4"
      },
      "source": [
        "bow_vectorizer = CountVectorizer(max_features=lim_unigram, stop_words=stop_words)\n",
        "bow = bow_vectorizer.fit_transform(list(train_headlines) + list(train_bodies))  # Train set only\n",
        "\n",
        "tfreq_vectorizer = TfidfTransformer(use_idf=False).fit(bow)\n",
        "tfreq = tfreq_vectorizer.transform(bow).toarray()  # Train set only\n",
        "\n",
        "tfidf_vectorizer = TfidfVectorizer(max_features=lim_unigram, stop_words=stop_words).\\\n",
        "    fit(list(train_headlines) + list(train_bodies) + \\\n",
        "        list(test_headlines)  + list(test_bodies)\n",
        "        )  # Train and test sets"
      ],
      "execution_count": 6,
      "outputs": []
    },
    {
      "cell_type": "markdown",
      "metadata": {
        "id": "NqAwS3Cf9FAF"
      },
      "source": [
        "We encode the headlines and bodies"
      ]
    },
    {
      "cell_type": "code",
      "metadata": {
        "id": "TFcwFb_vqMLB"
      },
      "source": [
        "bow = bow_vectorizer.transform(list(train_headlines)).toarray()\n",
        "head_vect_train = tfreq_vectorizer.transform(bow).toarray()\n",
        "bow = bow_vectorizer.transform(list(test_headlines)).toarray()\n",
        "head_vect_test = tfreq_vectorizer.transform(bow).toarray()\n",
        "bow =  bow_vectorizer.transform(list(train_bodies)).toarray()\n",
        "body_vect_train = tfreq_vectorizer.transform(bow).toarray()\n",
        "bow =  bow_vectorizer.transform(list(test_bodies)).toarray()\n",
        "body_vect_test = tfreq_vectorizer.transform(bow).toarray()\n",
        "\n",
        "head_tfidf_train = tfidf_vectorizer.transform(list(train_headlines)).toarray()\n",
        "head_tfidf_test = tfidf_vectorizer.transform(list(test_headlines)).toarray()\n",
        "body_tfidf_train = tfidf_vectorizer.transform(list(train_bodies)).toarray()\n",
        "body_tfidf_test = tfidf_vectorizer.transform(list(test_bodies)).toarray()\n",
        "cos_sim = lambda i : cosine_similarity(\n",
        "    head_tfidf_train[train_stances['head id'][i]].reshape(1,-1),\n",
        "    body_tfidf_train[train_stances['body id'][i]].reshape(1,-1)\n",
        "    ).squeeze()\n",
        "tfidf_cos_train = np.array([cos_sim(i) for i in range(len(train_stances))])\n",
        "cos_sim = lambda i : cosine_similarity(\n",
        "    head_tfidf_test[test_stances['head id'][i]].reshape(1,-1),\n",
        "    body_tfidf_test[test_stances['body id'][i]].reshape(1,-1)\n",
        "    ).squeeze()\n",
        "tfidf_cos_test = np.array([cos_sim(i) for i in range(len(test_stances))])"
      ],
      "execution_count": 7,
      "outputs": []
    },
    {
      "cell_type": "markdown",
      "metadata": {
        "id": "j5d-thmB9TyW"
      },
      "source": [
        "Finally we use our vector representations to compute the train and test set"
      ]
    },
    {
      "cell_type": "code",
      "metadata": {
        "id": "edkyOL6exs4v"
      },
      "source": [
        "train_set = np.c_[head_vect_train[train_stances['head id']],\n",
        "                  body_vect_train[train_stances['body id']],\n",
        "                  tfidf_cos_train\n",
        "                  ]\n",
        "test_set = np.c_[head_vect_test[test_stances['head id']],\n",
        "                 body_vect_test[test_stances['body id']],\n",
        "                 tfidf_cos_test\n",
        "                 ]"
      ],
      "execution_count": 8,
      "outputs": []
    },
    {
      "cell_type": "markdown",
      "metadata": {
        "id": "EGOD7jW18Juc"
      },
      "source": [
        "## memory check and clean\n",
        "after this preprocessing, we can discard some heavy variables to free some memory"
      ]
    },
    {
      "cell_type": "code",
      "metadata": {
        "id": "gzKhBaLg7YyC"
      },
      "source": [
        "del tfreq, body_vect_train, body_tfidf_train, \\\n",
        "    head_tfidf_train, head_vect_train, bow, \\\n",
        "    body_vect_test, body_tfidf_test, head_vect_test, \\\n",
        "    head_tfidf_test\n"
      ],
      "execution_count": 9,
      "outputs": []
    },
    {
      "cell_type": "markdown",
      "metadata": {
        "id": "IfQx7la-90Fz"
      },
      "source": [
        "and check if what is left in memory is pertinent"
      ]
    },
    {
      "cell_type": "code",
      "metadata": {
        "colab": {
          "base_uri": "https://localhost:8080/"
        },
        "id": "VpSjm1De7nqF",
        "outputId": "d704a491-5db0-4986-fcc1-fdfdb15bff12"
      },
      "source": [
        "import sys\n",
        "def sizeof_fmt(num, suffix='B'):\n",
        "    ''' by Fred Cirera,  https://stackoverflow.com/a/1094933/1870254, modified'''\n",
        "    for unit in ['','Ki','Mi','Gi','Ti','Pi','Ei','Zi']:\n",
        "        if abs(num) < 1024.0:\n",
        "            return \"%3.1f %s%s\" % (num, unit, suffix)\n",
        "        num /= 1024.0\n",
        "    return \"%.1f %s%s\" % (num, 'Yi', suffix)\n",
        "\n",
        "for name, size in sorted(((name, sys.getsizeof(value)) for name, value in locals().items()),\n",
        "                         key= lambda x: -x[1])[:10]:\n",
        "    print(\"{:>30}: {:>8}\".format(name, sizeof_fmt(size)))"
      ],
      "execution_count": 10,
      "outputs": [
        {
          "output_type": "stream",
          "text": [
            "                     train_set:  3.7 GiB\n",
            "                      test_set:  1.9 GiB\n",
            "                  train_bodies:  6.2 MiB\n",
            "                   test_bodies:  3.4 MiB\n",
            "               tfidf_cos_train: 390.5 KiB\n",
            "                 train_stances: 244.2 KiB\n",
            "               train_headlines: 243.1 KiB\n",
            "                tfidf_cos_test: 198.6 KiB\n",
            "                test_headlines: 135.9 KiB\n",
            "                  test_stances: 124.2 KiB\n"
          ],
          "name": "stdout"
        }
      ]
    },
    {
      "cell_type": "markdown",
      "metadata": {
        "id": "ra1SSTLjNzoU"
      },
      "source": [
        "# model, training and results\n"
      ]
    },
    {
      "cell_type": "markdown",
      "metadata": {
        "id": "THWrvt1n_HYB"
      },
      "source": [
        "## model definition"
      ]
    },
    {
      "cell_type": "markdown",
      "metadata": {
        "id": "VAYjrn2e-FCh"
      },
      "source": [
        "we set the parameters"
      ]
    },
    {
      "cell_type": "code",
      "metadata": {
        "id": "mzJtZGpO-Eyh"
      },
      "source": [
        "display_summary = True\n",
        "target_size = 4 # 4 different classes, (stances)\n",
        "hidden_size = 100 # hidden layer width\n",
        "train_keep_prob = 0.6 # for dropouts\n",
        "l2_alpha = 0.00001 # regularization parameter\n",
        "learn_rate = 0.01 # learning rate\n",
        "clip_ratio = 5 # clip ratio for the gradient norm clipping\n",
        "batch_size_train = 512 # pretty self-explanatory\n",
        "epochs = 90 # number of epochs for training"
      ],
      "execution_count": 11,
      "outputs": []
    },
    {
      "cell_type": "markdown",
      "metadata": {
        "id": "Nrgcvb2N-D-z"
      },
      "source": [
        "We define the model with just one hiden layer as in the UCLNLP solution"
      ]
    },
    {
      "cell_type": "code",
      "metadata": {
        "id": "ipyKu82uxsgD",
        "colab": {
          "base_uri": "https://localhost:8080/"
        },
        "outputId": "2c7c8edf-8784-40f1-cb00-bc5e0d1f77c7"
      },
      "source": [
        "feature_size = train_set.shape[1]\n",
        "regul = keras.regularizers.l2(l2_alpha)\n",
        "\n",
        "input = keras.Input(shape = (feature_size,), name='features')\n",
        "hidden = keras.layers.Dense(hidden_size, activation='relu',kernel_regularizer=regul)(input)\n",
        "hidden = keras.layers.Dropout(1-train_keep_prob, name = 'hidden')(hidden)\n",
        "output = keras.layers.Dense(target_size,kernel_regularizer=regul)(hidden)\n",
        "output = keras.layers.Dropout(1-train_keep_prob, name = 'output')(output)\n",
        "softmax = keras.layers.Activation('softmax', name='classifier')(output)\n",
        "\n",
        "model = keras.Model(inputs=input, outputs=softmax)\n",
        "\n",
        "loss = keras.losses.SparseCategoricalCrossentropy(from_logits='True')\n",
        "model.compile(optimizer = keras.optimizers.Adam(learning_rate=learn_rate, clipnorm=clip_ratio),\n",
        "            loss=loss)\n",
        "\n",
        "if display_summary : model.summary ()"
      ],
      "execution_count": 12,
      "outputs": [
        {
          "output_type": "stream",
          "text": [
            "Model: \"model\"\n",
            "_________________________________________________________________\n",
            "Layer (type)                 Output Shape              Param #   \n",
            "=================================================================\n",
            "features (InputLayer)        [(None, 10001)]           0         \n",
            "_________________________________________________________________\n",
            "dense (Dense)                (None, 100)               1000200   \n",
            "_________________________________________________________________\n",
            "hidden (Dropout)             (None, 100)               0         \n",
            "_________________________________________________________________\n",
            "dense_1 (Dense)              (None, 4)                 404       \n",
            "_________________________________________________________________\n",
            "output (Dropout)             (None, 4)                 0         \n",
            "_________________________________________________________________\n",
            "classifier (Activation)      (None, 4)                 0         \n",
            "=================================================================\n",
            "Total params: 1,000,604\n",
            "Trainable params: 1,000,604\n",
            "Non-trainable params: 0\n",
            "_________________________________________________________________\n"
          ],
          "name": "stdout"
        }
      ]
    },
    {
      "cell_type": "markdown",
      "metadata": {
        "id": "0iGZs312N6Ap"
      },
      "source": [
        "## Train"
      ]
    },
    {
      "cell_type": "code",
      "metadata": {
        "id": "udErl-i-Ywae",
        "colab": {
          "base_uri": "https://localhost:8080/"
        },
        "outputId": "dbc78413-feb4-4f2f-9c39-bb8651f2134e"
      },
      "source": [
        "history = model.fit(train_set, train_stances['stance'].to_numpy(),batch_size_train,epochs,validation_data=(test_set, test_stances['stance'].to_numpy()))"
      ],
      "execution_count": 13,
      "outputs": [
        {
          "output_type": "stream",
          "text": [
            "Epoch 1/90\n",
            "98/98 [==============================] - 10s 92ms/step - loss: 0.8508 - val_loss: 0.4872\n",
            "Epoch 2/90\n",
            "98/98 [==============================] - 8s 84ms/step - loss: 0.4816 - val_loss: 0.4623\n",
            "Epoch 3/90\n",
            "98/98 [==============================] - 8s 83ms/step - loss: 0.4420 - val_loss: 0.4210\n",
            "Epoch 4/90\n",
            "98/98 [==============================] - 8s 84ms/step - loss: 0.4299 - val_loss: 0.4341\n",
            "Epoch 5/90\n",
            "98/98 [==============================] - 8s 83ms/step - loss: 0.4178 - val_loss: 0.4188\n",
            "Epoch 6/90\n",
            "98/98 [==============================] - 8s 84ms/step - loss: 0.4229 - val_loss: 0.4167\n",
            "Epoch 7/90\n",
            "98/98 [==============================] - 8s 84ms/step - loss: 0.4110 - val_loss: 0.4217\n",
            "Epoch 8/90\n",
            "98/98 [==============================] - 8s 84ms/step - loss: 0.4104 - val_loss: 0.4295\n",
            "Epoch 9/90\n",
            "98/98 [==============================] - 8s 84ms/step - loss: 0.4046 - val_loss: 0.4553\n",
            "Epoch 10/90\n",
            "98/98 [==============================] - 8s 84ms/step - loss: 0.4083 - val_loss: 0.4541\n",
            "Epoch 11/90\n",
            "98/98 [==============================] - 8s 84ms/step - loss: 0.4076 - val_loss: 0.4387\n",
            "Epoch 12/90\n",
            "98/98 [==============================] - 8s 84ms/step - loss: 0.4127 - val_loss: 0.4632\n",
            "Epoch 13/90\n",
            "98/98 [==============================] - 8s 84ms/step - loss: 0.4051 - val_loss: 0.4348\n",
            "Epoch 14/90\n",
            "98/98 [==============================] - 8s 84ms/step - loss: 0.4025 - val_loss: 0.4649\n",
            "Epoch 15/90\n",
            "98/98 [==============================] - 8s 83ms/step - loss: 0.4079 - val_loss: 0.4789\n",
            "Epoch 16/90\n",
            "98/98 [==============================] - 8s 84ms/step - loss: 0.4086 - val_loss: 0.4558\n",
            "Epoch 17/90\n",
            "98/98 [==============================] - 8s 84ms/step - loss: 0.3984 - val_loss: 0.4589\n",
            "Epoch 18/90\n",
            "98/98 [==============================] - 8s 84ms/step - loss: 0.4074 - val_loss: 0.4583\n",
            "Epoch 19/90\n",
            "98/98 [==============================] - 8s 84ms/step - loss: 0.4043 - val_loss: 0.4395\n",
            "Epoch 20/90\n",
            "98/98 [==============================] - 8s 84ms/step - loss: 0.4090 - val_loss: 0.4537\n",
            "Epoch 21/90\n",
            "98/98 [==============================] - 8s 84ms/step - loss: 0.4123 - val_loss: 0.4713\n",
            "Epoch 22/90\n",
            "98/98 [==============================] - 8s 84ms/step - loss: 0.4073 - val_loss: 0.4570\n",
            "Epoch 23/90\n",
            "98/98 [==============================] - 8s 83ms/step - loss: 0.4038 - val_loss: 0.4627\n",
            "Epoch 24/90\n",
            "98/98 [==============================] - 8s 84ms/step - loss: 0.3961 - val_loss: 0.4867\n",
            "Epoch 25/90\n",
            "98/98 [==============================] - 8s 84ms/step - loss: 0.4015 - val_loss: 0.4659\n",
            "Epoch 26/90\n",
            "98/98 [==============================] - 8s 84ms/step - loss: 0.4017 - val_loss: 0.4470\n",
            "Epoch 27/90\n",
            "98/98 [==============================] - 8s 84ms/step - loss: 0.4091 - val_loss: 0.4817\n",
            "Epoch 28/90\n",
            "98/98 [==============================] - 8s 84ms/step - loss: 0.3967 - val_loss: 0.4618\n",
            "Epoch 29/90\n",
            "98/98 [==============================] - 8s 84ms/step - loss: 0.3970 - val_loss: 0.4745\n",
            "Epoch 30/90\n",
            "98/98 [==============================] - 8s 86ms/step - loss: 0.3994 - val_loss: 0.4780\n",
            "Epoch 31/90\n",
            "98/98 [==============================] - 8s 86ms/step - loss: 0.3972 - val_loss: 0.4637\n",
            "Epoch 32/90\n",
            "98/98 [==============================] - 8s 84ms/step - loss: 0.4086 - val_loss: 0.4543\n",
            "Epoch 33/90\n",
            "98/98 [==============================] - 8s 85ms/step - loss: 0.4108 - val_loss: 0.4672\n",
            "Epoch 34/90\n",
            "98/98 [==============================] - 8s 84ms/step - loss: 0.4003 - val_loss: 0.4783\n",
            "Epoch 35/90\n",
            "98/98 [==============================] - 8s 85ms/step - loss: 0.4082 - val_loss: 0.4564\n",
            "Epoch 36/90\n",
            "98/98 [==============================] - 8s 84ms/step - loss: 0.4026 - val_loss: 0.4635\n",
            "Epoch 37/90\n",
            "98/98 [==============================] - 8s 84ms/step - loss: 0.4041 - val_loss: 0.4831\n",
            "Epoch 38/90\n",
            "98/98 [==============================] - 8s 84ms/step - loss: 0.4023 - val_loss: 0.4837\n",
            "Epoch 39/90\n",
            "98/98 [==============================] - 8s 84ms/step - loss: 0.4057 - val_loss: 0.4793\n",
            "Epoch 40/90\n",
            "98/98 [==============================] - 8s 84ms/step - loss: 0.3990 - val_loss: 0.4792\n",
            "Epoch 41/90\n",
            "98/98 [==============================] - 8s 84ms/step - loss: 0.4076 - val_loss: 0.4571\n",
            "Epoch 42/90\n",
            "98/98 [==============================] - 8s 84ms/step - loss: 0.4013 - val_loss: 0.4486\n",
            "Epoch 43/90\n",
            "98/98 [==============================] - 8s 84ms/step - loss: 0.4055 - val_loss: 0.4687\n",
            "Epoch 44/90\n",
            "98/98 [==============================] - 8s 84ms/step - loss: 0.4131 - val_loss: 0.4765\n",
            "Epoch 45/90\n",
            "98/98 [==============================] - 8s 84ms/step - loss: 0.4049 - val_loss: 0.4572\n",
            "Epoch 46/90\n",
            "98/98 [==============================] - 8s 84ms/step - loss: 0.4017 - val_loss: 0.4648\n",
            "Epoch 47/90\n",
            "98/98 [==============================] - 8s 84ms/step - loss: 0.4033 - val_loss: 0.4797\n",
            "Epoch 48/90\n",
            "98/98 [==============================] - 8s 84ms/step - loss: 0.4046 - val_loss: 0.4660\n",
            "Epoch 49/90\n",
            "98/98 [==============================] - 8s 84ms/step - loss: 0.3959 - val_loss: 0.4723\n",
            "Epoch 50/90\n",
            "98/98 [==============================] - 8s 84ms/step - loss: 0.4081 - val_loss: 0.4789\n",
            "Epoch 51/90\n",
            "98/98 [==============================] - 8s 84ms/step - loss: 0.4024 - val_loss: 0.4551\n",
            "Epoch 52/90\n",
            "98/98 [==============================] - 8s 84ms/step - loss: 0.3973 - val_loss: 0.4603\n",
            "Epoch 53/90\n",
            "98/98 [==============================] - 8s 84ms/step - loss: 0.4023 - val_loss: 0.4393\n",
            "Epoch 54/90\n",
            "98/98 [==============================] - 8s 84ms/step - loss: 0.4010 - val_loss: 0.4769\n",
            "Epoch 55/90\n",
            "98/98 [==============================] - 8s 85ms/step - loss: 0.3977 - val_loss: 0.4440\n",
            "Epoch 56/90\n",
            "98/98 [==============================] - 8s 84ms/step - loss: 0.3966 - val_loss: 0.4929\n",
            "Epoch 57/90\n",
            "98/98 [==============================] - 8s 84ms/step - loss: 0.4024 - val_loss: 0.4678\n",
            "Epoch 58/90\n",
            "98/98 [==============================] - 8s 84ms/step - loss: 0.3971 - val_loss: 0.4759\n",
            "Epoch 59/90\n",
            "98/98 [==============================] - 9s 88ms/step - loss: 0.3979 - val_loss: 0.4555\n",
            "Epoch 60/90\n",
            "98/98 [==============================] - 8s 84ms/step - loss: 0.3987 - val_loss: 0.4634\n",
            "Epoch 61/90\n",
            "98/98 [==============================] - 9s 96ms/step - loss: 0.3982 - val_loss: 0.4667\n",
            "Epoch 62/90\n",
            "98/98 [==============================] - 8s 86ms/step - loss: 0.4034 - val_loss: 0.4666\n",
            "Epoch 63/90\n",
            "98/98 [==============================] - 8s 84ms/step - loss: 0.3963 - val_loss: 0.4720\n",
            "Epoch 64/90\n",
            "98/98 [==============================] - 8s 84ms/step - loss: 0.4009 - val_loss: 0.4498\n",
            "Epoch 65/90\n",
            "98/98 [==============================] - 8s 85ms/step - loss: 0.4077 - val_loss: 0.4668\n",
            "Epoch 66/90\n",
            "98/98 [==============================] - 8s 84ms/step - loss: 0.4021 - val_loss: 0.4660\n",
            "Epoch 67/90\n",
            "98/98 [==============================] - 8s 84ms/step - loss: 0.4009 - val_loss: 0.4590\n",
            "Epoch 68/90\n",
            "98/98 [==============================] - 8s 86ms/step - loss: 0.4058 - val_loss: 0.4528\n",
            "Epoch 69/90\n",
            "98/98 [==============================] - 8s 85ms/step - loss: 0.4008 - val_loss: 0.4681\n",
            "Epoch 70/90\n",
            "98/98 [==============================] - 8s 84ms/step - loss: 0.4005 - val_loss: 0.4639\n",
            "Epoch 71/90\n",
            "98/98 [==============================] - 8s 84ms/step - loss: 0.3971 - val_loss: 0.4687\n",
            "Epoch 72/90\n",
            "98/98 [==============================] - 8s 85ms/step - loss: 0.3972 - val_loss: 0.4695\n",
            "Epoch 73/90\n",
            "98/98 [==============================] - 8s 84ms/step - loss: 0.4018 - val_loss: 0.4724\n",
            "Epoch 74/90\n",
            "98/98 [==============================] - 8s 85ms/step - loss: 0.4001 - val_loss: 0.4634\n",
            "Epoch 75/90\n",
            "98/98 [==============================] - 8s 84ms/step - loss: 0.4017 - val_loss: 0.4448\n",
            "Epoch 76/90\n",
            "98/98 [==============================] - 8s 85ms/step - loss: 0.4005 - val_loss: 0.4581\n",
            "Epoch 77/90\n",
            "98/98 [==============================] - 8s 84ms/step - loss: 0.3999 - val_loss: 0.4580\n",
            "Epoch 78/90\n",
            "98/98 [==============================] - 8s 84ms/step - loss: 0.4007 - val_loss: 0.4685\n",
            "Epoch 79/90\n",
            "98/98 [==============================] - 8s 84ms/step - loss: 0.3996 - val_loss: 0.4908\n",
            "Epoch 80/90\n",
            "98/98 [==============================] - 8s 84ms/step - loss: 0.4017 - val_loss: 0.4676\n",
            "Epoch 81/90\n",
            "98/98 [==============================] - 8s 84ms/step - loss: 0.4017 - val_loss: 0.4625\n",
            "Epoch 82/90\n",
            "98/98 [==============================] - 8s 83ms/step - loss: 0.3953 - val_loss: 0.4544\n",
            "Epoch 83/90\n",
            "98/98 [==============================] - 8s 85ms/step - loss: 0.4006 - val_loss: 0.4774\n",
            "Epoch 84/90\n",
            "98/98 [==============================] - 8s 84ms/step - loss: 0.4005 - val_loss: 0.4694\n",
            "Epoch 85/90\n",
            "98/98 [==============================] - 8s 85ms/step - loss: 0.4001 - val_loss: 0.4562\n",
            "Epoch 86/90\n",
            "98/98 [==============================] - 8s 84ms/step - loss: 0.3911 - val_loss: 0.4662\n",
            "Epoch 87/90\n",
            "98/98 [==============================] - 8s 86ms/step - loss: 0.3980 - val_loss: 0.4762\n",
            "Epoch 88/90\n",
            "98/98 [==============================] - 8s 84ms/step - loss: 0.3976 - val_loss: 0.4805\n",
            "Epoch 89/90\n",
            "98/98 [==============================] - 8s 84ms/step - loss: 0.4061 - val_loss: 0.4877\n",
            "Epoch 90/90\n",
            "98/98 [==============================] - 8s 84ms/step - loss: 0.4045 - val_loss: 0.4496\n"
          ],
          "name": "stdout"
        }
      ]
    },
    {
      "cell_type": "markdown",
      "metadata": {
        "id": "bShkTBR9_Koh"
      },
      "source": [
        "## results"
      ]
    },
    {
      "cell_type": "markdown",
      "metadata": {
        "id": "7LN1xwm5_NBN"
      },
      "source": [
        "We use the metric given for the challenge"
      ]
    },
    {
      "cell_type": "code",
      "metadata": {
        "id": "fBpHke2ueLtU",
        "colab": {
          "base_uri": "https://localhost:8080/"
        },
        "outputId": "72cc8e84-8356-4a75-fc6e-f7956355e042"
      },
      "source": [
        "def metric (X,Y, unrelated_index = 3) :\n",
        "    lvl1 = 0.25 * ((X == unrelated_index ) == (Y == unrelated_index)).sum()\n",
        "    lvl2 = 0.75 * ((X != unrelated_index) & (X == Y)).sum()\n",
        "    return lvl1 + lvl2\n",
        "\n",
        "res = metric(model.predict(test_set).argmax(1), test_stances['stance'], 3)\n",
        "print(f'for this model the score is {res}, the baseline score was 9521.5')"
      ],
      "execution_count": 14,
      "outputs": [
        {
          "output_type": "stream",
          "text": [
            "for this model the score is 9549.75, the baseline score was 9521.5\n"
          ],
          "name": "stdout"
        }
      ]
    },
    {
      "cell_type": "code",
      "metadata": {
        "colab": {
          "base_uri": "https://localhost:8080/",
          "height": 279
        },
        "id": "OEOwpBAeh4HH",
        "outputId": "1b40732b-0815-4143-ee1d-0c27307d1761"
      },
      "source": [
        "train_loss_list = history.history['loss']\n",
        "valid_loss_list = history.history['val_loss']\n",
        "global_steps_list = list(range(len(train_loss_list)))\n",
        "\n",
        "plt.plot(global_steps_list, train_loss_list, label='Train')\n",
        "plt.plot(global_steps_list, valid_loss_list, label='Valid')\n",
        "plt.xlabel('Global Steps')\n",
        "plt.ylabel('Loss')\n",
        "plt.legend()\n",
        "plt.show() "
      ],
      "execution_count": 15,
      "outputs": [
        {
          "output_type": "display_data",
          "data": {
            "image/png": "[encoded data removed]",
            "text/plain": [
              "<Figure size 432x288 with 1 Axes>"
            ]
          },
          "metadata": {
            "tags": [],
            "needs_background": "light"
          }
        }
      ]
    },
    {
      "cell_type": "code",
      "metadata": {
        "id": "46jP-3n1FHVj"
      },
      "source": [
        ""
      ],
      "execution_count": 15,
      "outputs": []
    }
  ]
}