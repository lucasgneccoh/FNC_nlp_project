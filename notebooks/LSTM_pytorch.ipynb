{
  "nbformat": 4,
  "nbformat_minor": 0,
  "metadata": {
    "colab": {
      "name": "LSTM_pytorch.ipynb",
      "provenance": [],
      "collapsed_sections": [
        "Plx0htsMwIya",
        "GsFPIdUpwF2U",
        "JPbDqvir6lS8"
      ],
      "include_colab_link": true
    },
    "kernelspec": {
      "display_name": "Python 3",
      "name": "python3"
    },
    "accelerator": "GPU"
  },
  "cells": [
    {
      "cell_type": "markdown",
      "metadata": {
        "id": "view-in-github",
        "colab_type": "text"
      },
      "source": [
        "<a href=\"https://colab.research.google.com/github/lucasgneccoh/FNC_nlp_project/blob/main/notebooks/LSTM_pytorch.ipynb\" target=\"_parent\"><img src=\"https://colab.research.google.com/assets/colab-badge.svg\" alt=\"Open In Colab\"/></a>"
      ]
    },
    {
      "cell_type": "markdown",
      "metadata": {
        "id": "E2xH5XPrUfl2"
      },
      "source": [
        "# Imports and initial definitions"
      ]
    },
    {
      "cell_type": "markdown",
      "metadata": {
        "id": "cZi2Fh26An6g"
      },
      "source": [
        "## Clone repository"
      ]
    },
    {
      "cell_type": "code",
      "metadata": {
        "colab": {
          "base_uri": "https://localhost:8080/"
        },
        "id": "uaeCOJVfAm-r",
        "outputId": "13e03a79-e857-4d77-ac31-36cc2a47ed77"
      },
      "source": [
        "import os\n",
        "%cd /content\n",
        "!git clone https://github.com/lucasgneccoh/FNC_nlp_project.git\n",
        "\n",
        "os.chdir(\"/content/FNC_nlp_project\")"
      ],
      "execution_count": 1,
      "outputs": [
        {
          "output_type": "stream",
          "text": [
            "/content\n",
            "Cloning into 'FNC_nlp_project'...\n",
            "remote: Enumerating objects: 92, done.\u001b[K\n",
            "remote: Counting objects: 100% (92/92), done.\u001b[K\n",
            "remote: Compressing objects: 100% (84/84), done.\u001b[K\n",
            "remote: Total 92 (delta 36), reused 29 (delta 5), pack-reused 0\u001b[K\n",
            "Unpacking objects: 100% (92/92), done.\n"
          ],
          "name": "stdout"
        }
      ]
    },
    {
      "cell_type": "markdown",
      "metadata": {
        "id": "YsVsDikDUjjY"
      },
      "source": [
        "## Install gensim and make imports"
      ]
    },
    {
      "cell_type": "code",
      "metadata": {
        "colab": {
          "base_uri": "https://localhost:8080/"
        },
        "id": "X9bAOeqzBz1B",
        "outputId": "c38b48d2-67b7-4d7c-8365-a968390ee473"
      },
      "source": [
        "!pip install gensim==4.0.0b"
      ],
      "execution_count": 2,
      "outputs": [
        {
          "output_type": "stream",
          "text": [
            "Collecting gensim==4.0.0b\n",
            "\u001b[?25l  Downloading https://files.pythonhosted.org/packages/13/47/16e2e4f34ec7534db21facf505c5a17e3ba10cbce72f675721277628d454/gensim-4.0.0b0-cp37-cp37m-manylinux1_x86_64.whl (24.0MB)\n",
            "\u001b[K     |████████████████████████████████| 24.0MB 105kB/s \n",
            "\u001b[?25hRequirement already satisfied: scipy>=0.18.1 in /usr/local/lib/python3.7/dist-packages (from gensim==4.0.0b) (1.4.1)\n",
            "Requirement already satisfied: smart-open>=1.8.1 in /usr/local/lib/python3.7/dist-packages (from gensim==4.0.0b) (5.0.0)\n",
            "Requirement already satisfied: numpy>=1.11.3 in /usr/local/lib/python3.7/dist-packages (from gensim==4.0.0b) (1.19.5)\n",
            "Installing collected packages: gensim\n",
            "  Found existing installation: gensim 3.6.0\n",
            "    Uninstalling gensim-3.6.0:\n",
            "      Successfully uninstalled gensim-3.6.0\n",
            "Successfully installed gensim-4.0.0b0\n"
          ],
          "name": "stdout"
        }
      ]
    },
    {
      "cell_type": "code",
      "metadata": {
        "id": "7sYqX3jOALkD"
      },
      "source": [
        "import matplotlib.pyplot as plt\n",
        "import numpy as np\n",
        "import gensim\n",
        "import torch\n",
        "import torchtext\n",
        "import spacy\n",
        "from nltk import tokenize\n",
        "import pandas as pd\n",
        "import gensim.parsing.preprocessing as prep\n",
        "import re\n",
        "\n",
        "from torchtext.legacy.data import Field, TabularDataset, BucketIterator, Example, Iterator, Dataset\n",
        "import torchtext.vocab as vocab\n",
        "\n",
        "\n",
        "import torch.nn as nn\n",
        "from torch.nn.utils.rnn import pack_padded_sequence, pad_packed_sequence\n",
        "import torch.optim as optim"
      ],
      "execution_count": 3,
      "outputs": []
    },
    {
      "cell_type": "code",
      "metadata": {
        "colab": {
          "base_uri": "https://localhost:8080/"
        },
        "id": "o5CceyIeUWBx",
        "outputId": "2d552fb5-e7cc-4aa9-bb1b-373e28558f28"
      },
      "source": [
        "device = torch.device('cuda:0' if torch.cuda.is_available() else 'cpu')\n",
        "print(device)"
      ],
      "execution_count": 4,
      "outputs": [
        {
          "output_type": "stream",
          "text": [
            "cuda:0\n"
          ],
          "name": "stdout"
        }
      ]
    },
    {
      "cell_type": "markdown",
      "metadata": {
        "id": "DqNCsjCtLlC0"
      },
      "source": [
        "# Data\n",
        "Here we read the data and process it to create the needed datasets and dataloaders"
      ]
    },
    {
      "cell_type": "markdown",
      "metadata": {
        "id": "MoyOr3BYcGBO"
      },
      "source": [
        "## Read and prepare data"
      ]
    },
    {
      "cell_type": "code",
      "metadata": {
        "id": "_9PL_8mPZk-3"
      },
      "source": [
        "def process_data_frames(stances, bodies):\n",
        "    \"\"\"\n",
        "    Create three pandas DataFrame objects representing the FNC data\n",
        "\n",
        "    Parameters\n",
        "    ----------\n",
        "    stances: pandas.DataFrame\n",
        "        DataFrame with the following structure: Headline, Body ID, Stance\n",
        "        Stance takes the values 'unrelated', 'agree', 'disagree', 'discuss'\n",
        "\n",
        "    bodies: pandas.DataFrame\n",
        "        DataFrame with the following structure: Body ID, Body\n",
        "\n",
        "    Returns\n",
        "    -------\n",
        "        stances: Body ID, Headline ID, stance label\n",
        "        bodies: Body ID, Body\n",
        "        Headlines: Headline ID, Headline\n",
        "    \"\"\"\n",
        "    uni = stances['Headline'].unique()\n",
        "    uni_keys = dict(zip(uni, range(len(uni))))\n",
        "    labels_dict = {'unrelated':0, 'agree':1, 'disagree':2, 'discuss':3}\n",
        "    stances['Headline ID'] = stances['Headline'].map(uni_keys)\n",
        "    stances['Stance'] = stances['Stance'].map(labels_dict)\n",
        "    headlines = stances.loc[:,['Headline ID', 'Headline']].drop_duplicates(subset=['Headline ID']).set_index('Headline ID')\n",
        "\n",
        "    bodies.set_index('Body ID', inplace=True)\n",
        "    bodies.rename(columns={'articleBody': 'Body'}, inplace=True)\n",
        "    stances.drop(columns=['Headline'], inplace=True)\n",
        "\n",
        "    return stances, bodies, headlines\n",
        "\n",
        "class FNC_Dataset(torch.utils.data.Dataset):\n",
        "    \"\"\" Dataset with the FNC data (headline, body, stance)\n",
        "        We represent each observation using a dictionary.\n",
        "        The text can be preprocessed with a custom function\n",
        "\n",
        "        Parameters\n",
        "        ----------\n",
        "        stances_file: str\n",
        "            Name of the original stances csv file containing Headline, Body ID\n",
        "            and Stance\n",
        "\n",
        "        bodies_file: str\n",
        "            Name of the original bodies csv file containing Body ID and Body\n",
        "\n",
        "        path: str\n",
        "            Base path to prepend to the the file names. Absolute path to the \n",
        "            csv files will be the one returned by os.path.join(`path`, `file_name`)\n",
        "\n",
        "        processing: function\n",
        "            Function to process a sentence. It takes a str and returns a list of\n",
        "            str representing the tokenized and preprocessed sentenced \n",
        "    \"\"\"\n",
        "  \n",
        "    def __init__(self, stances_file, bodies_file, path, processing):\n",
        "        \"\"\" Creates an instance of the FNC_Dataset by loading the original csv\n",
        "            files and creating internal pandas DataFrame object with the data\n",
        "        \"\"\"\n",
        "        stances = pd.read_csv(os.path.join(path, stances_file))\n",
        "        bodies = pd.read_csv(os.path.join(path, bodies_file))\n",
        "        self.stances, self.bodies, self.headlines = process_data_frames(stances, bodies)\n",
        "        # Function to pass from line of text to input\n",
        "        self.processing = processing\n",
        "  \n",
        "    def __len__(self):\n",
        "        return len(self.stances)\n",
        "\n",
        "    def __getitem__(self, idx):\n",
        "        if torch.is_tensor(idx):\n",
        "            idx = idx.tolist()\n",
        "        row = self.stances.iloc[idx]    \n",
        "        h, b = self.headlines.loc[row.at['Headline ID']].get('Headline'), self.bodies.loc[row.at['Body ID']].get('Body')\n",
        "        h, b = self.processing(h), self.processing(b) \n",
        "        s = row.at['Stance']\n",
        "        return {'headline':h, 'body':b, 'stance':s}\n",
        "        \n",
        "\n",
        "\"\"\" \n",
        "We are going to use torchtext in the following cells\n",
        "torchtext adds the processing on the Field directly and\n",
        "not in the \"source\" dataset, so for now we do not preprocess\n",
        "\"\"\"\n",
        "processing = lambda x: x \n",
        "\n",
        "path = 'data/FNC_data'\n",
        "stances_file = 'train_stances.csv'\n",
        "bodies_file = 'train_bodies.csv'\n",
        "\n",
        "data_FNC = FNC_Dataset(stances_file, bodies_file, path, processing)\n",
        "\n",
        "\n",
        "path = 'data/FNC_data'\n",
        "stances_file = 'competition_test_stances.csv'\n",
        "bodies_file = 'competition_test_bodies.csv'\n",
        "\n",
        "test_FNC = FNC_Dataset(stances_file, bodies_file, path, processing)"
      ],
      "execution_count": 5,
      "outputs": []
    },
    {
      "cell_type": "code",
      "metadata": {
        "id": "fwyttm8PysKP",
        "colab": {
          "base_uri": "https://localhost:8080/"
        },
        "outputId": "4cbc6f88-f829-4c79-ec50-8b91db61fe0f"
      },
      "source": [
        "# Example of data sample with current configuration\n",
        "test_FNC[5]"
      ],
      "execution_count": 6,
      "outputs": [
        {
          "output_type": "execute_result",
          "data": {
            "text/plain": [
              "{'body': 'When faced with the choice of feasting on a fine meal of human while listening to Justin Bieber\\'s music or fleeing to blessed — but hungry — quiet, one bear in Russia decided that silence is indeed golden.\\n\\nA report in the Daily Mail details Russian fisherman Igor Vorozhbitsyn\\'s unfortunate encounter with the brown bear, who attacked him from behind as he was walking to his favorite fishing spot in the Yakutia Republic. But as the bear was beginning to inflict serious injury on Vorozhbitsyn, his cellphone rang, and the ringtone of Justin Bieber hit \"Baby\" startled the animal, causing it to beat a hasty retreat.\\n\\n\"I know that sort of ringtone isn\\'t to everyone\\'s taste but my granddaughter loaded it onto my phone for a joke,\" Vorozhbitsyn said. Nice work, kid — you just saved Grandpa\\'s life with nothing more than a tween anthem.\\n\\n- - Mike Barry',\n",
              " 'headline': \"Next-generation Apple iPhones' features leaked\",\n",
              " 'stance': 0}"
            ]
          },
          "metadata": {
            "tags": []
          },
          "execution_count": 6
        }
      ]
    },
    {
      "cell_type": "markdown",
      "metadata": {
        "id": "bgIhACX0Mg0s"
      },
      "source": [
        "## Select preprocessing"
      ]
    },
    {
      "cell_type": "code",
      "metadata": {
        "colab": {
          "base_uri": "https://localhost:8080/"
        },
        "id": "EjvvBaU-J1_t",
        "outputId": "dde22e42-9637-474e-e895-958f90305e4f"
      },
      "source": [
        "\"\"\" Compare tokenizers    \n",
        "\"\"\"\n",
        "spacy_en = spacy.load('en')\n",
        "def spacy_tokenizer(text): # create a tokenizer function\n",
        "    return [tok.text for tok in spacy_en.tokenizer(text)]\n",
        "\n",
        "\n",
        "# Use the one used before\n",
        "CUSTOM_FILTERS = [lambda x: x.lower(), lambda x: re.sub('\\W+',' ',x) ,\\\n",
        "                           prep.strip_tags, prep.strip_punctuation, \\\n",
        "                           prep.strip_punctuation2, prep.strip_multiple_whitespaces, \\\n",
        "                           prep.strip_numeric, prep.remove_stopwords, prep.strip_short]\n",
        "processing = lambda x: prep.preprocess_string(x, CUSTOM_FILTERS)\n",
        "\n",
        "\n",
        "\n",
        "print(data_FNC[0]['headline'])\n",
        "print('spacey')\n",
        "print(spacy_tokenizer(data_FNC[0]['headline']))\n",
        "\n",
        "print('gensim')\n",
        "print(processing(data_FNC[0]['headline']))"
      ],
      "execution_count": 7,
      "outputs": [
        {
          "output_type": "stream",
          "text": [
            "Police find mass graves with at least '15 bodies' near Mexico town where 43 students disappeared after police clash\n",
            "spacey\n",
            "['Police', 'find', 'mass', 'graves', 'with', 'at', 'least', \"'\", '15', 'bodies', \"'\", 'near', 'Mexico', 'town', 'where', '43', 'students', 'disappeared', 'after', 'police', 'clash']\n",
            "gensim\n",
            "['police', 'mass', 'graves', 'bodies', 'near', 'mexico', 'town', 'students', 'disappeared', 'police', 'clash']\n"
          ],
          "name": "stdout"
        }
      ]
    },
    {
      "cell_type": "markdown",
      "metadata": {
        "id": "8AzOUgNnMp8k"
      },
      "source": [
        "## Merge and shuffle train and test data"
      ]
    },
    {
      "cell_type": "code",
      "metadata": {
        "id": "qxhzwKBxXYDI"
      },
      "source": [
        "\"\"\"\n",
        "We are considering to merge the train and test set\n",
        "and then resample the test set, see if we get more \n",
        "normal results\n",
        "\"\"\"\n",
        "merge = False\n",
        "\n",
        "if merge:\n",
        "    all_FNC = torch.utils.data.ConcatDataset([data_FNC, test_FNC])\n",
        "    new_data_FNC, new_test_FNC = torch.utils.data.random_split(all_FNC, [len(data_FNC), len(test_FNC)], generator=torch.Generator().manual_seed(42))\n",
        "else:\n",
        "    new_data_FNC, new_test_FNC = data_FNC, test_FNC"
      ],
      "execution_count": 8,
      "outputs": []
    },
    {
      "cell_type": "code",
      "metadata": {
        "colab": {
          "base_uri": "https://localhost:8080/"
        },
        "id": "NaTTpJTkabym",
        "outputId": "00c2c0f0-070f-407b-b444-39522573faf6"
      },
      "source": [
        "print(f\"data_FNC: {len(data_FNC)}, {len(new_data_FNC)}\")\n",
        "print(f\"test_FNC: {len(test_FNC)}, {len(new_test_FNC)}\")\n",
        "N = len(test_FNC)\n",
        "i = np.random.randint(N)\n",
        "print(test_FNC[i])\n",
        "print(new_test_FNC[i])"
      ],
      "execution_count": 9,
      "outputs": [
        {
          "output_type": "stream",
          "text": [
            "data_FNC: 49972, 49972\n",
            "test_FNC: 25413, 25413\n",
            "{'headline': \"Rumors Swirling About Israel's Shocking Sinai 'Endgame' Plan for Palestinians in Gaza\", 'body': 'Microsoft will buy Mojang AB.', 'stance': 0}\n",
            "{'headline': \"Rumors Swirling About Israel's Shocking Sinai 'Endgame' Plan for Palestinians in Gaza\", 'body': 'Microsoft will buy Mojang AB.', 'stance': 0}\n"
          ],
          "name": "stdout"
        }
      ]
    },
    {
      "cell_type": "markdown",
      "metadata": {
        "id": "VMT0MA5XWLp4"
      },
      "source": [
        "# Create embedding layer"
      ]
    },
    {
      "cell_type": "markdown",
      "metadata": {
        "id": "o-I5HeqmMvJj"
      },
      "source": [
        "## Create Field and vocabulariy"
      ]
    },
    {
      "cell_type": "code",
      "metadata": {
        "colab": {
          "base_uri": "https://localhost:8080/"
        },
        "id": "t-YwAFdEdf7X",
        "outputId": "29eb24ab-1b18-46d3-9335-2bc2747afa77"
      },
      "source": [
        "%%time\n",
        "\"\"\"\n",
        "    Here we use tochtext to create the model.\n",
        "    We have to define the Field objects corresponding to text fields (headline\n",
        "    and body) and label fields (stance)\n",
        "    We also have to create a Dataset of Examples \n",
        "    See torchtext.legacy.data for more information\n",
        "\n",
        "    NOTE: This part takes time: I add an if to avoid execution when not needed\n",
        "\"\"\"\n",
        "\n",
        "if True:\n",
        "    CUSTOM_FILTERS = [lambda x: x.lower(), lambda x: re.sub('\\W+',' ',x) ,\\\n",
        "                        prep.strip_tags, prep.strip_punctuation, \\\n",
        "                        prep.strip_punctuation2, prep.strip_multiple_whitespaces, \\\n",
        "                        prep.strip_numeric, prep.remove_stopwords, prep.strip_short]\n",
        "    processing = lambda x: prep.preprocess_string(x, CUSTOM_FILTERS)\n",
        "  # use torchtext to define the dataset field containing text\n",
        "    TEXT = Field(sequential=True, init_token='<START>', \\\n",
        "                              eos_token='<END>',lower=True, tokenize = processing,\\\n",
        "                              batch_first=True,\\\n",
        "                              is_target=False)\n",
        "    LABEL = Field(sequential=False, use_vocab=False,\\\n",
        "                               batch_first=True,\\\n",
        "                                is_target=True)\n",
        "\n",
        "#TRAIN\n",
        "    fields = {'headline': ('headline', TEXT),\\\n",
        "            'body': ('body', TEXT), 'stance':('stance', LABEL)}\n",
        "    examples = [Example.fromdict(data=row,fields=fields) \\\n",
        "              for row in new_data_FNC]\n",
        "\n",
        "    fields = {'headline': TEXT,\\\n",
        "                'body':  TEXT, 'stance':LABEL}\n",
        "  # load your dataset using torchtext\n",
        "    train_set = Dataset(examples=examples,fields=fields)\n",
        "\n",
        "#TEST\n",
        "    fields = {'headline': ('headline', TEXT),\\\n",
        "                'body': ('body', TEXT), 'stance':('stance', LABEL)}\n",
        "    examples = [Example.fromdict(data=row,fields=fields) \\\n",
        "                for row in new_test_FNC]\n",
        "\n",
        "    fields = {'headline': TEXT,\\\n",
        "                'body':  TEXT, 'stance':LABEL}\n",
        "    # load your dataset using torchtext\n",
        "    test_set = Dataset(examples=examples,fields=fields)\n"
      ],
      "execution_count": 10,
      "outputs": [
        {
          "output_type": "stream",
          "text": [
            "CPU times: user 1min 18s, sys: 905 ms, total: 1min 19s\n",
            "Wall time: 1min 19s\n"
          ],
          "name": "stdout"
        }
      ]
    },
    {
      "cell_type": "markdown",
      "metadata": {
        "id": "0KJE1RTXnur_"
      },
      "source": [
        "## Load vectors into Field\n",
        "Here we create the embedding layer from pretrained word embeddings\n",
        "\n",
        "There are two kinds of pre trained word embeddings:\n",
        "  - The `gensim` pre trained models like Google News or FastText, or even the ones we trained\n",
        "  - The `torchtext` pretrained models"
      ]
    },
    {
      "cell_type": "code",
      "metadata": {
        "id": "fjLwY3adAaBv",
        "colab": {
          "base_uri": "https://localhost:8080/"
        },
        "outputId": "c14ab569-c517-4be4-b8a6-99896c1a5933"
      },
      "source": [
        "%%time\n",
        "\n",
        "from gensim.models import Word2Vec\n",
        "\n",
        "# Option 1 = use torchtext pre trained models\n",
        "# Option 2 = Use a gensim pre trained model\n",
        "option = 2\n",
        "\n",
        "# Only if option is 2\n",
        "# Choose from google_news, fastText\n",
        "# To use another model, you just need the file of the model or the vectors\n",
        "# Make sure to load the model/vectors \n",
        "gensim_model = \"google_news\"\n",
        "\n",
        "if option == 1:\n",
        "    '''\n",
        "    Option 1: Use a torchtext pretrained model\n",
        "\n",
        "    Pre trained models in torchtext\n",
        "    charngram.100d\n",
        "    fasttext.en.300d\n",
        "    fasttext.simple.300d\n",
        "    glove.6B.200d\n",
        "    glove.6B.300d\n",
        "    glove.840B.300d\n",
        "    See https://torchtext.readthedocs.io/en/latest/vocab.html#pretrained-aliases\n",
        "    '''\n",
        "    # Can take several minutes to load\n",
        "    pre_trained_vector_type = 'glove.6B.300d'  \n",
        "    TEXT.build_vocab(train_set, test_set, vectors = pre_trained_vector_type)\n",
        "    \n",
        "\n",
        "\n",
        "elif option == 2:\n",
        "    \"\"\"\n",
        "    Option 2: Load a gensim Word2Vec model and use it to feed the Field\n",
        "    Gensim models are sometimes very heavy, so instead of using the gensim \n",
        "    download api, it is better to use directly wget when possible\n",
        "    Make sure the downloaded file can be opened with \n",
        "        gensim.models.KeyedVectors.load_word2vec_format\n",
        "    This means that we do not load models, but only vectors.\n",
        "    From a gensim model, they can be saved using \n",
        "        model.wv.save_word2vec_format('data/embeddings/word2vec_wv')\n",
        "    \"\"\"    \n",
        "    cwd = os.getcwd()\n",
        "    %cd /content\n",
        "    !mkdir downloaded_embeddings\n",
        "    %cd /content/downloaded_embeddings\n",
        "\n",
        "    if gensim_model == \"google_news\":\n",
        "        !wget -c \"https://s3.amazonaws.com/dl4j-distribution/GoogleNews-vectors-negative300.bin.gz\"\n",
        "        path_model = \"/content/downloaded_embeddings/GoogleNews-vectors-negative300.bin.gz\"\n",
        "        binary = True\n",
        "\n",
        "    elif gensim_model == \"fastText\":\n",
        "        !wget -c \"https://dl.fbaipublicfiles.com/fasttext/vectors-english/wiki-news-300d-1M-subword.vec.zip\"\n",
        "        !unzip \"wiki-news-300d-1M-subword.vec.zip\"\n",
        "        path_model = \"/content/wiki-news-300d-1M-subword.vec\"\n",
        "        binary = False\n",
        "\n",
        "    %cd $cwd   \n",
        "\n",
        "\n",
        "    model = gensim.models.KeyedVectors.load_word2vec_format(path_model, binary=True)\n",
        "    TEXT.build_vocab(train_set, test_set)\n",
        "    W2V_SIZE = model.vector_size\n",
        "    word2vec_vectors = []    \n",
        "    for token, idx in TEXT.vocab.stoi.items():\n",
        "        if token in model.key_to_index:\n",
        "            word2vec_vectors.append(torch.FloatTensor(model[token]))\n",
        "        else:\n",
        "            word2vec_vectors.append(torch.zeros(W2V_SIZE))\n",
        "\n",
        "    TEXT.vocab.set_vectors(TEXT.vocab.stoi, word2vec_vectors, W2V_SIZE)\n",
        "\n",
        "\n",
        "# Finally, we use the TEXT Field to build de embedding layer\n",
        "embedding = torch.nn.Embedding.from_pretrained(torch.FloatTensor(TEXT.vocab.vectors))\n",
        "    "
      ],
      "execution_count": 36,
      "outputs": [
        {
          "output_type": "stream",
          "text": [
            "/content\n",
            "mkdir: cannot create directory ‘downloaded_embeddings’: File exists\n",
            "/content/downloaded_embeddings\n",
            "--2021-04-30 02:31:51--  https://s3.amazonaws.com/dl4j-distribution/GoogleNews-vectors-negative300.bin.gz\n",
            "Resolving s3.amazonaws.com (s3.amazonaws.com)... 52.217.72.14\n",
            "Connecting to s3.amazonaws.com (s3.amazonaws.com)|52.217.72.14|:443... connected.\n",
            "HTTP request sent, awaiting response... 416 Requested Range Not Satisfiable\n",
            "\n",
            "    The file is already fully retrieved; nothing to do.\n",
            "\n",
            "/content/FNC_nlp_project\n"
          ],
          "name": "stdout"
        },
        {
          "output_type": "stream",
          "text": [
            "/usr/local/lib/python3.7/dist-packages/ipykernel_launcher.py:65: UserWarning: The given NumPy array is not writeable, and PyTorch does not support non-writeable tensors. This means you can write to the underlying (supposedly non-writeable) NumPy array using the tensor. You may want to copy the array to protect its data or make it writeable before converting it to a tensor. This type of warning will be suppressed for the rest of this program. (Triggered internally at  /pytorch/torch/csrc/utils/tensor_numpy.cpp:143.)\n"
          ],
          "name": "stderr"
        },
        {
          "output_type": "stream",
          "text": [
            "CPU times: user 55.7 s, sys: 3.14 s, total: 58.8 s\n",
            "Wall time: 59.1 s\n"
          ],
          "name": "stdout"
        }
      ]
    },
    {
      "cell_type": "markdown",
      "metadata": {
        "id": "XMCOpTvtoUpm"
      },
      "source": [
        "## Lets see somme embeddings (and how to get them from the torchtext Field)"
      ]
    },
    {
      "cell_type": "code",
      "metadata": {
        "id": "mVueZQVcoX77"
      },
      "source": [
        "word = \"france\"\n",
        "idx = TEXT.vocab.stoi[word]\n",
        "vec = TEXT.vocab.vectors[idx]\n",
        "vec"
      ],
      "execution_count": null,
      "outputs": []
    },
    {
      "cell_type": "markdown",
      "metadata": {
        "id": "1AlSwjSpdUJH"
      },
      "source": [
        "## Check for missing words"
      ]
    },
    {
      "cell_type": "code",
      "metadata": {
        "id": "E4_PeCd-33ps",
        "colab": {
          "base_uri": "https://localhost:8080/"
        },
        "outputId": "565fc02f-66a5-4ce9-a65c-e1d94d2aabb3"
      },
      "source": [
        "missing_words = []\n",
        "for i, w in enumerate(TEXT.vocab.itos):\n",
        "    cond = ((TEXT.vocab.vectors[i] == 0.0).sum().item()==300)\n",
        "    if i>3 and cond: missing_words.append(w)\n",
        "\n",
        "N = len(missing_words)\n",
        "print(f'Total number of words: {len(TEXT.vocab)}')\n",
        "print(f'Num of missing words: {N}')\n",
        "ind = np.random.randint(N, size=7)\n",
        "print(f'Some of them: {[missing_words[i] for i in ind]}')\n",
        "\n",
        "# The vector associated to this words is the zero vector, the same used for <unk>, <pad>, <sos>, <eos>"
      ],
      "execution_count": 37,
      "outputs": [
        {
          "output_type": "stream",
          "text": [
            "Total number of words: 27863\n",
            "Num of missing words: 5326\n",
            "Some of them: ['chengdu', 'razul', 'austen', 'brekken', 'meltingcbi', 'barnard', 'tolonews']\n"
          ],
          "name": "stdout"
        }
      ]
    },
    {
      "cell_type": "markdown",
      "metadata": {
        "id": "TK7ZKgTuWWdg"
      },
      "source": [
        "# Training the model: Preliminaries\n",
        "Here we create the necessary iterators to iterate through the data, the LSTM model we are going to use and helper functions to be used during the training"
      ]
    },
    {
      "cell_type": "markdown",
      "metadata": {
        "id": "GsFPIdUpwF2U"
      },
      "source": [
        "## BucketIterator\n",
        "The bucket iterator uses the TEXT Field object we created implicitly because it uses the torchtext datasets we created with them"
      ]
    },
    {
      "cell_type": "code",
      "metadata": {
        "id": "TVXElqWx_pwY"
      },
      "source": [
        "# Using splits\n",
        "train_loader, test_loader = BucketIterator.splits((train_set, test_set), batch_sizes=(32,32), device=device,\\\n",
        "                                       sort_key = lambda x: len(x.body),\n",
        "                                       sort=False,\n",
        "                                       sort_within_batch=True,\n",
        "                                       shuffle=True,\n",
        "                                       repeat=True)\n"
      ],
      "execution_count": 42,
      "outputs": []
    },
    {
      "cell_type": "markdown",
      "metadata": {
        "id": "jhVa5s2WpWzb"
      },
      "source": [
        "Here are some manipulations of the BucketIterator to show how it works"
      ]
    },
    {
      "cell_type": "code",
      "metadata": {
        "colab": {
          "base_uri": "https://localhost:8080/"
        },
        "id": "dSOkXqqk2D5_",
        "outputId": "ebf336b2-9fdf-4298-9def-84f1e3a1f354"
      },
      "source": [
        "# Example of a batch using the .batches functions\n",
        "# The for loop has to be stoped manually, as the batches will be recalculated \n",
        "# when the iterator is exhausted\n",
        "train_loader.create_batches()\n",
        "for batch in train_loader.batches:\n",
        "    # batch is a list of elements of type Example\n",
        "    print(f'batch is of type {type(batch)}')\n",
        "    for x in batch:\n",
        "        # x is an Example\n",
        "        print('Headline')\n",
        "        print(x.headline)\n",
        "        print('Body')\n",
        "        print(x.body)\n",
        "        # NOTICE: No padding or numeralization is being done!\n",
        "        break\n",
        "    break"
      ],
      "execution_count": 43,
      "outputs": [
        {
          "output_type": "stream",
          "text": [
            "batch is of type <class 'list'>\n",
            "Headline\n",
            "['woman', 'catches', 'husband', 'cheating', 'twin', 'humiliates']\n",
            "Body\n",
            "['nun', 'idea', 'pregnant', 'surprised', 'mother', 'superior', 'sisters', 'gave', 'birth', 'baby', 'boy', 'recently', 'according', 'daily', 'mail', 'south', 'american', 'nun', 'belongs', 'order', 'macerata', 'eastern', 'italian', 'region', 'marche', 'arrived', 'june', 'people', 'suspect', 'pregnant', 'time', 'admitted', 'rushed', 'emergency', 'department', 'bartolomeo', 'eustachio', 'san', 'severino', 'marche', 'fellow', 'sisters', 'complained', 'severe', 'stomach', 'ache', 'doctors', 'immediately', 'deduced', 'nun', 'birth', 'soon', 'delivered', 'healthy', 'baby', 'boy', 'child', 'currently', 'remains', 'hospital', 'undergo', 'checks', 'macerata', 'nuns', 'expressed', 'desire', 'baby', 'raise', 'nun', 'said', 'idea', 'pregnant', 'prior', 'hospital', 'admission', 'time', 'nun', 'mysteriously', 'given', 'birth', 'suffering', 'stomach', 'pains', 'south', 'american', 'nun', 'case', 'similar', 'happened', 'year', 'old', 'salvadorean', 'nun', 'italy', 'year', 'complained', 'unbearable', 'stomach', 'pain', 'rushed', 'hospital', 'gave', 'birth', 'named', 'baby', 'boy', 'pope', 'francis', 'salvadorean', 'nun', 'told', 'social', 'worker', 'feel', 'guilt', 'expressed', 'eagerness', 'raise', 'child', 'happy', 'gift', 'god', 'feel', 'mother', 'nun', 'admitted', 'according', 'daily', 'mail', 'congolese', 'nun', 'italian', 'order', 'gave', 'birth', 'baby', 'girl', 'congolese', 'nun', 'experience', 'different', 'raped', 'priest', 'decided', 'baby', 'adoption', 'refused', 'entrance', 'convent', 'changed', 'mind', 'decided', 'raise', 'daughter']\n"
          ],
          "name": "stdout"
        }
      ]
    },
    {
      "cell_type": "code",
      "metadata": {
        "colab": {
          "base_uri": "https://localhost:8080/"
        },
        "id": "sQWZDf_B2ENz",
        "outputId": "56a32dce-c7db-4a14-c5bb-751aa9cb29b0"
      },
      "source": [
        "train_loader.create_batches()\n",
        "for batch in train_loader:\n",
        "    # batch is of type torchtext.data.Batch, which is the good one!\n",
        "    print(f'batch is of type {type(batch)}')\n",
        "    print(batch)\n",
        "    print('Headline')\n",
        "    print(batch.headline[:3])\n",
        "    print('Number of <pad> in each headline')\n",
        "    print((batch.headline == TEXT.vocab.stoi['<pad>']).sum(axis = 1))\n",
        "    print('Body shape')\n",
        "    print(batch.body.shape)\n",
        "    print('Number of <pad> in each body')\n",
        "    print((batch.body == TEXT.vocab.stoi['<pad>']).sum(axis = 1))\n",
        "    break"
      ],
      "execution_count": 44,
      "outputs": [
        {
          "output_type": "stream",
          "text": [
            "batch is of type <class 'torchtext.legacy.data.batch.Batch'>\n",
            "\n",
            "[torchtext.legacy.data.batch.Batch of size 32]\n",
            "\t[.headline]:[torch.cuda.LongTensor of size 32x17 (GPU 0)]\n",
            "\t[.body]:[torch.cuda.LongTensor of size 32x119 (GPU 0)]\n",
            "\t[.stance]:[torch.cuda.LongTensor of size 32 (GPU 0)]\n",
            "Headline\n",
            "tensor([[   2,   14,    7,   55,   85,  137,    3,    1,    1,    1,    1,    1,\n",
            "            1,    1,    1,    1,    1],\n",
            "        [   2,  242,  195,   19,  123,   57,  142,   46,   29,    3,    1,    1,\n",
            "            1,    1,    1,    1,    1],\n",
            "        [   2,   23, 3163, 3921, 3664,  127,    3,    1,    1,    1,    1,    1,\n",
            "            1,    1,    1,    1,    1]], device='cuda:0')\n",
            "Number of <pad> in each headline\n",
            "tensor([10,  7, 10,  9, 13,  0, 13,  8,  7,  6,  9,  6,  7,  8,  9,  6,  8,  6,\n",
            "         8,  8,  4,  8,  4,  8,  7,  0,  8,  7, 11,  6,  8,  7],\n",
            "       device='cuda:0')\n",
            "Body shape\n",
            "torch.Size([32, 119])\n",
            "Number of <pad> in each body\n",
            "tensor([0, 0, 0, 0, 0, 0, 0, 0, 0, 0, 0, 0, 0, 0, 0, 1, 1, 1, 1, 2, 2, 2, 2, 2,\n",
            "        2, 2, 2, 2, 3, 3, 3, 3], device='cuda:0')\n"
          ],
          "name": "stdout"
        }
      ]
    },
    {
      "cell_type": "code",
      "metadata": {
        "colab": {
          "base_uri": "https://localhost:8080/"
        },
        "id": "0IIeHKftIFIn",
        "outputId": "416a7115-13d9-4137-8e16-98b1d1349fc6"
      },
      "source": [
        "headline = ' '.join([TEXT.vocab.itos[i] for i in batch.headline[0,:]])\n",
        "print(headline)"
      ],
      "execution_count": 45,
      "outputs": [
        {
          "output_type": "stream",
          "text": [
            "<START> islamic state leader baghdadi dead <END> <pad> <pad> <pad> <pad> <pad> <pad> <pad> <pad> <pad> <pad>\n"
          ],
          "name": "stdout"
        }
      ]
    },
    {
      "cell_type": "markdown",
      "metadata": {
        "id": "JPbDqvir6lS8"
      },
      "source": [
        "## LSTM"
      ]
    },
    {
      "cell_type": "code",
      "metadata": {
        "id": "FlobJ16O6rX1"
      },
      "source": [
        "class LSTM_encoder(nn.Module):\n",
        "\n",
        "    def __init__(self, embedding_layer, embedding_size, dimension=128, agg='last',\\\n",
        "                 headline_output_size=128,body_output_size=128, mlp_size=100, do_dropout=True):\n",
        "        super(LSTM_encoder, self).__init__()\n",
        "\n",
        "        self.embedding = embedding_layer\n",
        "        # we can load a preecomputed embedding and freeze it during training\n",
        "        # we only need to separately train the Word2Vec or ELMO and import the matrix here\n",
        "        self.dimension = dimension\n",
        "        self.lstm = nn.LSTM(input_size=embedding_size,\n",
        "                            hidden_size=dimension,\n",
        "                            num_layers=1,\n",
        "                            batch_first=True,\n",
        "                            bidirectional=True)\n",
        "        \n",
        "        self.drop = nn.Dropout(p=0.4)\n",
        "\n",
        "        self.fc_headline = nn.Linear(2*dimension, headline_output_size) #because they concat last and first (bidir)\n",
        "        self.fc_body = nn.Linear(2*dimension, body_output_size) #because they concat last and first (bidir)\n",
        "        self.agg = agg\n",
        "\n",
        "        self.mlp_fc_1 = nn.Linear(headline_output_size + body_output_size, mlp_size)\n",
        "        self.mlp_fc_2 = nn.Linear(mlp_size, 4)\n",
        "        self.do_dropout = do_dropout\n",
        "\n",
        "    def forward(self, body, body_len, headline, headline_len):\n",
        "\n",
        "        body_emb = self.embedding(body)\n",
        "        headline_emb = self.embedding(headline)\n",
        "        #allows you to work with different sizes of inputs in the same tensor for batch calculation\n",
        "        \n",
        "        ### BODY\n",
        "        lengths = torch.zeros(body.shape[0]) + body.shape[1]\n",
        "        # print(\"body_emb: \", body_emb.shape)\n",
        "        packed = pack_padded_sequence(body_emb, lengths=lengths, enforce_sorted=False, batch_first=True)\n",
        "\n",
        "        packed_output, _ = self.lstm(packed)\n",
        "        # print(packed_output.shape)\n",
        "\n",
        "        output, _ = pad_packed_sequence(packed_output)        \n",
        "        #unpack the output (reverse operation of pack_padded_sequence)\n",
        "\n",
        "        # concat the last and first states of the bidir LSTM\n",
        "\n",
        "        # Choose output\n",
        "        # output has shape (seq_len, batch_size, num_directions * hidden_size)\n",
        "        # print(\"output: \", output.shape)\n",
        "\n",
        "        # Last\n",
        "        if self.agg=='last':\n",
        "            out_forward = output[-1, :, :self.dimension]\n",
        "            out_reverse = output[0, :, self.dimension:]   # We were taking the last (-1)\n",
        "        # Max\n",
        "        if self.agg=='max':\n",
        "            pass\n",
        "        # --------- Concat -------------\n",
        "        # print(\"out_forward: \", out_forward.shape)\n",
        "        out_reduced = torch.cat((out_forward, out_reverse), 1)\n",
        "  \n",
        "        # print(\"out_reduced: \", out_reduced.shape)\n",
        "        if self.do_dropout:\n",
        "            x = self.drop(out_reduced)\n",
        "        else:\n",
        "            x = out_reduced\n",
        "        # print(\"dropout: \", x.shape)\n",
        "        text_fea = self.fc_body(x)  \n",
        "        # print(\"fc: \", x.shape)\n",
        "        # text_fea = torch.squeeze(x,1)   # Squeeze does not change anything when batch size > 1\n",
        "        # print(\"text_fea: \", text_fea.shape)\n",
        "        body_out = torch.sigmoid(text_fea) # activation\n",
        "\n",
        "\n",
        "        ### HEADLINE\n",
        "        lengths = torch.zeros(headline.shape[0]) + headline.shape[1]\n",
        "        packed = pack_padded_sequence(headline_emb, lengths=lengths, enforce_sorted=False, batch_first=True)\n",
        "        packed_output, _ = self.lstm(packed)\n",
        "        output, _ = pad_packed_sequence(packed_output)        \n",
        "        #unpack the output (reverse operation of pack_padded_sequence)\n",
        "\n",
        "        # concat the last and first states of the bidir LSTM\n",
        "\n",
        "        # Choose output\n",
        "        # output has shape (seq_len, batch_size, num_directions * hidden_size)\n",
        "\n",
        "        # Last\n",
        "        if self.agg=='last':\n",
        "            out_forward = output[-1, :, :self.dimension]\n",
        "            out_reverse = output[0, :, self.dimension:]\n",
        "        # Max\n",
        "        if self.agg=='max':\n",
        "            pass\n",
        "        # --------- Concat -------------\n",
        "        out_reduced = torch.cat((out_forward, out_reverse), 1) \n",
        "        if self.do_dropout:\n",
        "            x = self.drop(out_reduced)\n",
        "        else:\n",
        "            x = out_reduced\n",
        "        text_fea = self.fc_headline(x)\n",
        "        # text_fea = torch.squeeze(self.fc_headline(self.drop(out_reduced)),1)   \n",
        "        headline_out = torch.sigmoid(text_fea) # activation      \n",
        "\n",
        "        out = torch.cat((headline_out, body_out),1) \n",
        "        \n",
        "        ### MLP part\n",
        "        x = self.mlp_fc_1(out)\n",
        "        if self.do_dropout:\n",
        "            x = self.drop(x)\n",
        "        out = self.mlp_fc_2(x)        \n",
        "        # Extra dropout?\n",
        "        # out = self.drop(out)\n",
        "        return out "
      ],
      "execution_count": 46,
      "outputs": []
    },
    {
      "cell_type": "markdown",
      "metadata": {
        "id": "lnLeim0DCa7F"
      },
      "source": [
        "## Checkpoints\n",
        "Functions used to save and load the state of the training and different results"
      ]
    },
    {
      "cell_type": "code",
      "metadata": {
        "id": "g1vXnc_rA3NP"
      },
      "source": [
        "# Save and Load Functions\n",
        "from sklearn.metrics import confusion_matrix\n",
        "def save_checkpoint(save_path, model, optimizer, valid_loss):\n",
        "\n",
        "    if save_path == None:\n",
        "        return\n",
        "    \n",
        "    state_dict = {'model_state_dict': model.state_dict(),\n",
        "                  'optimizer_state_dict': optimizer.state_dict(),\n",
        "                  'valid_loss': valid_loss}\n",
        "    \n",
        "    torch.save(state_dict, save_path)\n",
        "    print(f'Model saved to ==> {save_path}')\n",
        "\n",
        "\n",
        "def load_checkpoint(load_path, model, optimizer):\n",
        "\n",
        "    if load_path==None:\n",
        "        return\n",
        "    \n",
        "    state_dict = torch.load(load_path, map_location=device)\n",
        "    print(f'Model loaded from <== {load_path}')\n",
        "    \n",
        "    model.load_state_dict(state_dict['model_state_dict'])\n",
        "    optimizer.load_state_dict(state_dict['optimizer_state_dict'])\n",
        "    \n",
        "    return state_dict['valid_loss']\n",
        "\n",
        "\n",
        "def save_metrics(save_path, train_loss_list, valid_loss_list, global_steps_list):\n",
        "\n",
        "    if save_path == None:\n",
        "        return\n",
        "    \n",
        "    state_dict = {'train_loss_list': train_loss_list,\n",
        "                  'valid_loss_list': valid_loss_list,\n",
        "                  'global_steps_list': global_steps_list}\n",
        "    \n",
        "    torch.save(state_dict, save_path)\n",
        "    print(f'Model saved to ==> {save_path}')\n",
        "\n",
        "\n",
        "def load_metrics(load_path):\n",
        "\n",
        "    if load_path==None:\n",
        "        return\n",
        "    \n",
        "    state_dict = torch.load(load_path, map_location=device)\n",
        "    print(f'Model loaded from <== {load_path}')\n",
        "    \n",
        "    return state_dict['train_loss_list'], state_dict['valid_loss_list'], state_dict['global_steps_list']\n",
        "\n",
        "def categorize(output, labels, classes):\n",
        "    pred = output.argmax(dim=1)\n",
        "    hits = [((pred==c)*(labels==c)).sum().item() for c in classes]\n",
        "    return np.array(hits)\n",
        "\n",
        "\n",
        "def FNC_metric (X,Y) :\n",
        "    lvl1 = 0.25 * ((X == 3 ) == (Y == 3)).sum()\n",
        "    lvl2 = 0.75 * ((X < 3) & (X == Y)).sum()\n",
        "    return lvl1 + lvl2\n",
        "\n",
        "\n",
        "\n",
        "def metric_on_loader(model, loader, metric):\n",
        "    model.eval()    \n",
        "    total_metric = 0\n",
        "    N = len(loader)\n",
        "    for i, batch in enumerate(loader): #I don't know where the size are coming from\n",
        "            \n",
        "        if i == N: break\n",
        "        labels = batch.stance\n",
        "        body = batch.body\n",
        "        headline = batch.headline\n",
        "        body_len = torch.Tensor(batch.body.shape[0])\n",
        "        headline_len = torch.Tensor(batch.headline.shape[0])\n",
        "        body = body.to(device)\n",
        "        body_len = body_len.to(device)\n",
        "        headline = headline.to(device)\n",
        "        headline_len = headline_len.to(device)\n",
        "        output = model(body, body_len, headline, headline_len) \n",
        "        total_metric += metric(labels.detach().cpu().numpy(),output.argmax(dim=1).detach().cpu().numpy())\n",
        "    \n",
        "\n",
        "    return total_metric\n",
        "\n",
        "\n",
        "\n",
        "# Training Function\n",
        "destination_folder = 'data/LSTM_training'\n",
        "def train(model,\n",
        "          optimizer,\n",
        "          criterion = nn.CrossEntropyLoss(),\n",
        "          train_loader = train_loader,\n",
        "          valid_loader = test_loader, #to be changed once we split\n",
        "          num_epochs = 5,\n",
        "          eval_every = len(train_loader),\n",
        "          file_path = destination_folder,\n",
        "          best_valid_loss = float(\"Inf\")):\n",
        "    \n",
        "    # initialize running values\n",
        "    running_loss = 0.0\n",
        "    valid_running_loss = 0.0\n",
        "    global_step = 0\n",
        "    train_loss_list = []\n",
        "    valid_loss_list = []\n",
        "    global_steps_list = []\n",
        "    classes = [0,1,2,3]\n",
        "    hits_class_total = []\n",
        "    hits_class_total_train = []\n",
        "    conf_batch_train = np.zeros((len(classes),len(classes)))\n",
        "    conf_batch_test = np.zeros((len(classes),len(classes)))\n",
        "    conf_list_train = []\n",
        "    conf_list_test = []\n",
        "    total_FNC_metric = []\n",
        "\n",
        "    N_train = len(train_loader)\n",
        "    N_test = len(valid_loader)\n",
        "    # training loop\n",
        "    model.train()\n",
        "    for epoch in range(num_epochs):\n",
        "        hits_class_train = np.array([0 for i in classes])\n",
        "        conf_batch_train = np.zeros((len(classes),len(classes)))\n",
        "    \n",
        "        # print('Epoch [{}/{}]'.format(epoch+1, num_epochs)) \n",
        "        train_loader.create_batches()\n",
        "        for i, batch in enumerate(train_loader): #I don't know where the size are coming from\n",
        "            \n",
        "            '''\n",
        "            TRAIN LOOP\n",
        "            '''\n",
        "            if i == N_train: break\n",
        "            labels = batch.stance\n",
        "            body = batch.body\n",
        "            headline = batch.headline\n",
        "            body_len = torch.Tensor(batch.body.shape[0])\n",
        "            headline_len = torch.Tensor(batch.headline.shape[0])\n",
        "            body = body.to(device)\n",
        "            body_len = body_len.to(device)\n",
        "            headline = headline.to(device)\n",
        "            headline_len = headline_len.to(device)\n",
        "            output = model(body, body_len, headline, headline_len) # change inputs            \n",
        "            \n",
        "            \n",
        "            \n",
        "            loss = criterion(output, labels)\n",
        "            cats = categorize(output, labels, classes)\n",
        "            conf_batch_train += confusion_matrix(labels.detach().cpu().numpy(), output.argmax(dim=1).detach().cpu().numpy(), labels=classes)\n",
        "            hits_class_train += cats\n",
        "            \n",
        "            optimizer.zero_grad()\n",
        "            # print('loss.backward()')\n",
        "            loss.backward()\n",
        "            # print('optimizer.step()')\n",
        "            optimizer.step()\n",
        "            # print('done')  \n",
        "            # update running values\n",
        "            running_loss += loss.item()\n",
        "            # print(loss.item())\n",
        "            global_step += 1\n",
        "\n",
        "            # evaluation step\n",
        "            '''\n",
        "            EVALUATION\n",
        "            '''\n",
        "            if global_step % eval_every == 0:\n",
        "                \n",
        "                hits_class = np.array([0 for i in classes])\n",
        "                conf_batch_test = np.zeros((len(classes),len(classes)))\n",
        "                \n",
        "                # print(\"eval\")\n",
        "                model.eval()\n",
        "                FNC_met = 0\n",
        "                with torch.no_grad():                    \n",
        "                  # validation loop\n",
        "                  valid_loader.create_batches()\n",
        "                  for j, batch_t in enumerate(valid_loader):\n",
        "                      if j == N_test: break\n",
        "                      labels = batch_t.stance\n",
        "                      body = batch_t.body\n",
        "                      headline = batch_t.headline\n",
        "                      body_len = torch.Tensor(batch_t.body.shape[0])\n",
        "                      headline_len = torch.Tensor(batch_t.headline.shape[0])\n",
        "                      body = body.to(device)\n",
        "                      body_len = body_len.to(device)\n",
        "                      headline = headline.to(device)\n",
        "                      headline_len = headline_len.to(device)\n",
        "                      output = model(body, body_len, headline, headline_len) # change inputs   \n",
        "                      # print(\"criterion(output, labels)\")\n",
        "                      loss = criterion(output, labels)\n",
        "                      cats = categorize(output, labels, classes)\n",
        "                      hits_class += cats\n",
        "                      conf_batch_train += confusion_matrix(labels.detach().cpu().numpy(), output.argmax(dim=1).detach().cpu().numpy(), labels=classes)\n",
        "                      valid_running_loss += loss.item()\n",
        "                      FNC_met += FNC_metric(labels.detach().cpu().numpy(),output.argmax(dim=1).detach().cpu().numpy())\n",
        "\n",
        "\n",
        "                # evaluation\n",
        "                average_train_loss = running_loss / eval_every\n",
        "                average_valid_loss = valid_running_loss / len(test_loader)\n",
        "                train_loss_list.append(average_train_loss)\n",
        "                valid_loss_list.append(average_valid_loss)\n",
        "                global_steps_list.append(global_step)\n",
        "\n",
        "                hits_class_total.append(hits_class)\n",
        "                hits_class_total_train.append(hits_class_train)\n",
        "\n",
        "                conf_list_test.append(conf_batch_test)\n",
        "                conf_list_train.append(conf_batch_train)\n",
        "                total_FNC_metric.append(FNC_met)\n",
        "\n",
        "                # resetting running values\n",
        "                running_loss = 0.0                \n",
        "                valid_running_loss = 0.0\n",
        "                model.train()\n",
        "\n",
        "                # print progress\n",
        "                print('Epoch [{}/{}], Step [{}/{}], Train Loss: {:.4f}, Valid Loss: {:.4f}'\n",
        "                      .format(epoch+1, num_epochs, global_step, num_epochs*len(train_loader),\n",
        "                              average_train_loss, average_valid_loss))\n",
        "                # print(hits_class_total)\n",
        "                torch.save({'accuracy_class': hits_class_total, 'accuracy_class_train': hits_class_total_train}, file_path + '/accuracy_per_class.pt')\n",
        "                torch.save({'conf_train': conf_list_train, 'conf_test': conf_list_test}, file_path + '/conf_matrices.pt')\n",
        "                torch.save({'FNC_metric': total_FNC_metric}, file_path + '/FNC_metric.pt')\n",
        "                save_metrics(file_path + '/metrics.pt', train_loss_list, valid_loss_list, global_steps_list)\n",
        "                \n",
        "                # checkpoint\n",
        "                if best_valid_loss > average_valid_loss:\n",
        "                    best_valid_loss = average_valid_loss\n",
        "                    save_checkpoint(file_path + '/model.pt', model, optimizer, best_valid_loss)\n",
        "                    \n",
        "      \n",
        "        \n",
        "\n",
        "    save_metrics(file_path + '/metrics.pt', train_loss_list, valid_loss_list, global_steps_list)\n",
        "    print('Finished Training!')"
      ],
      "execution_count": 64,
      "outputs": []
    },
    {
      "cell_type": "markdown",
      "metadata": {
        "id": "S7uJxsHoh0dw"
      },
      "source": [
        "# Training the model: Launch training"
      ]
    },
    {
      "cell_type": "code",
      "metadata": {
        "colab": {
          "base_uri": "https://localhost:8080/",
          "height": 680
        },
        "id": "UjY7_rwD0AV4",
        "outputId": "bc2bf699-0c3a-4807-d99a-e65fabb3075c"
      },
      "source": [
        "model = LSTM_encoder(embedding, 300, dimension=128, agg='last',\\\n",
        "                     headline_output_size=200,\\\n",
        "                     body_output_size=200, mlp_size=128, do_dropout=False)\n",
        "model = model.to(device)\n",
        "optimizer = optim.Adam(model.parameters(), lr=0.001)\n",
        "best_valid_loss = float(\"Inf\")\n",
        "save_checkpoint(destination_folder + '/model_start.pt', model, optimizer, best_valid_loss)\n",
        "\n",
        "criterion = nn.CrossEntropyLoss()\n",
        "train(model=model, optimizer=optimizer, criterion = criterion, num_epochs=40, train_loader=train_loader, \\\n",
        "      valid_loader=test_loader)"
      ],
      "execution_count": 65,
      "outputs": [
        {
          "output_type": "stream",
          "text": [
            "Model saved to ==> data/LSTM_training/model_start.pt\n",
            "Epoch [1/40], Step [1562/62480], Train Loss: 0.7267, Valid Loss: 0.8358\n",
            "Model saved to ==> data/LSTM_training/metrics.pt\n",
            "Model saved to ==> data/LSTM_training/model.pt\n",
            "Epoch [2/40], Step [3124/62480], Train Loss: 0.5831, Valid Loss: 0.9521\n",
            "Model saved to ==> data/LSTM_training/metrics.pt\n",
            "Epoch [3/40], Step [4686/62480], Train Loss: 0.4973, Valid Loss: 1.0042\n",
            "Model saved to ==> data/LSTM_training/metrics.pt\n",
            "Epoch [4/40], Step [6248/62480], Train Loss: 0.4486, Valid Loss: 1.1156\n",
            "Model saved to ==> data/LSTM_training/metrics.pt\n",
            "Epoch [5/40], Step [7810/62480], Train Loss: 0.4202, Valid Loss: 1.1656\n",
            "Model saved to ==> data/LSTM_training/metrics.pt\n",
            "Epoch [6/40], Step [9372/62480], Train Loss: 0.4075, Valid Loss: 1.1878\n",
            "Model saved to ==> data/LSTM_training/metrics.pt\n",
            "Epoch [7/40], Step [10934/62480], Train Loss: 0.3864, Valid Loss: 1.2349\n",
            "Model saved to ==> data/LSTM_training/metrics.pt\n",
            "Epoch [8/40], Step [12496/62480], Train Loss: 0.3774, Valid Loss: 1.2004\n",
            "Model saved to ==> data/LSTM_training/metrics.pt\n",
            "Epoch [9/40], Step [14058/62480], Train Loss: 0.3690, Valid Loss: 1.1503\n",
            "Model saved to ==> data/LSTM_training/metrics.pt\n"
          ],
          "name": "stdout"
        },
        {
          "output_type": "error",
          "ename": "KeyboardInterrupt",
          "evalue": "ignored",
          "traceback": [
            "\u001b[0;31m---------------------------------------------------------------------------\u001b[0m",
            "\u001b[0;31mKeyboardInterrupt\u001b[0m                         Traceback (most recent call last)",
            "\u001b[0;32m<ipython-input-65-c535c3d2d005>\u001b[0m in \u001b[0;36m<module>\u001b[0;34m()\u001b[0m\n\u001b[1;32m      6\u001b[0m \u001b[0;34m\u001b[0m\u001b[0m\n\u001b[1;32m      7\u001b[0m \u001b[0mcriterion\u001b[0m \u001b[0;34m=\u001b[0m \u001b[0mnn\u001b[0m\u001b[0;34m.\u001b[0m\u001b[0mCrossEntropyLoss\u001b[0m\u001b[0;34m(\u001b[0m\u001b[0;34m)\u001b[0m\u001b[0;34m\u001b[0m\u001b[0;34m\u001b[0m\u001b[0m\n\u001b[0;32m----> 8\u001b[0;31m \u001b[0mtrain\u001b[0m\u001b[0;34m(\u001b[0m\u001b[0mmodel\u001b[0m\u001b[0;34m=\u001b[0m\u001b[0mmodel\u001b[0m\u001b[0;34m,\u001b[0m \u001b[0moptimizer\u001b[0m\u001b[0;34m=\u001b[0m\u001b[0moptimizer\u001b[0m\u001b[0;34m,\u001b[0m \u001b[0mcriterion\u001b[0m \u001b[0;34m=\u001b[0m \u001b[0mcriterion\u001b[0m\u001b[0;34m,\u001b[0m \u001b[0mnum_epochs\u001b[0m\u001b[0;34m=\u001b[0m\u001b[0;36m40\u001b[0m\u001b[0;34m,\u001b[0m \u001b[0mtrain_loader\u001b[0m\u001b[0;34m=\u001b[0m\u001b[0mtrain_loader\u001b[0m\u001b[0;34m,\u001b[0m       \u001b[0mvalid_loader\u001b[0m\u001b[0;34m=\u001b[0m\u001b[0mtest_loader\u001b[0m\u001b[0;34m)\u001b[0m\u001b[0;34m\u001b[0m\u001b[0;34m\u001b[0m\u001b[0m\n\u001b[0m",
            "\u001b[0;32m<ipython-input-64-abc6173a6428>\u001b[0m in \u001b[0;36mtrain\u001b[0;34m(model, optimizer, criterion, train_loader, valid_loader, num_epochs, eval_every, file_path, best_valid_loss)\u001b[0m\n\u001b[1;32m    141\u001b[0m             \u001b[0mheadline\u001b[0m \u001b[0;34m=\u001b[0m \u001b[0mheadline\u001b[0m\u001b[0;34m.\u001b[0m\u001b[0mto\u001b[0m\u001b[0;34m(\u001b[0m\u001b[0mdevice\u001b[0m\u001b[0;34m)\u001b[0m\u001b[0;34m\u001b[0m\u001b[0;34m\u001b[0m\u001b[0m\n\u001b[1;32m    142\u001b[0m             \u001b[0mheadline_len\u001b[0m \u001b[0;34m=\u001b[0m \u001b[0mheadline_len\u001b[0m\u001b[0;34m.\u001b[0m\u001b[0mto\u001b[0m\u001b[0;34m(\u001b[0m\u001b[0mdevice\u001b[0m\u001b[0;34m)\u001b[0m\u001b[0;34m\u001b[0m\u001b[0;34m\u001b[0m\u001b[0m\n\u001b[0;32m--> 143\u001b[0;31m             \u001b[0moutput\u001b[0m \u001b[0;34m=\u001b[0m \u001b[0mmodel\u001b[0m\u001b[0;34m(\u001b[0m\u001b[0mbody\u001b[0m\u001b[0;34m,\u001b[0m \u001b[0mbody_len\u001b[0m\u001b[0;34m,\u001b[0m \u001b[0mheadline\u001b[0m\u001b[0;34m,\u001b[0m \u001b[0mheadline_len\u001b[0m\u001b[0;34m)\u001b[0m \u001b[0;31m# change inputs\u001b[0m\u001b[0;34m\u001b[0m\u001b[0;34m\u001b[0m\u001b[0m\n\u001b[0m\u001b[1;32m    144\u001b[0m \u001b[0;34m\u001b[0m\u001b[0m\n\u001b[1;32m    145\u001b[0m \u001b[0;34m\u001b[0m\u001b[0m\n",
            "\u001b[0;32m/usr/local/lib/python3.7/dist-packages/torch/nn/modules/module.py\u001b[0m in \u001b[0;36m_call_impl\u001b[0;34m(self, *input, **kwargs)\u001b[0m\n\u001b[1;32m    887\u001b[0m             \u001b[0mresult\u001b[0m \u001b[0;34m=\u001b[0m \u001b[0mself\u001b[0m\u001b[0;34m.\u001b[0m\u001b[0m_slow_forward\u001b[0m\u001b[0;34m(\u001b[0m\u001b[0;34m*\u001b[0m\u001b[0minput\u001b[0m\u001b[0;34m,\u001b[0m \u001b[0;34m**\u001b[0m\u001b[0mkwargs\u001b[0m\u001b[0;34m)\u001b[0m\u001b[0;34m\u001b[0m\u001b[0;34m\u001b[0m\u001b[0m\n\u001b[1;32m    888\u001b[0m         \u001b[0;32melse\u001b[0m\u001b[0;34m:\u001b[0m\u001b[0;34m\u001b[0m\u001b[0;34m\u001b[0m\u001b[0m\n\u001b[0;32m--> 889\u001b[0;31m             \u001b[0mresult\u001b[0m \u001b[0;34m=\u001b[0m \u001b[0mself\u001b[0m\u001b[0;34m.\u001b[0m\u001b[0mforward\u001b[0m\u001b[0;34m(\u001b[0m\u001b[0;34m*\u001b[0m\u001b[0minput\u001b[0m\u001b[0;34m,\u001b[0m \u001b[0;34m**\u001b[0m\u001b[0mkwargs\u001b[0m\u001b[0;34m)\u001b[0m\u001b[0;34m\u001b[0m\u001b[0;34m\u001b[0m\u001b[0m\n\u001b[0m\u001b[1;32m    890\u001b[0m         for hook in itertools.chain(\n\u001b[1;32m    891\u001b[0m                 \u001b[0m_global_forward_hooks\u001b[0m\u001b[0;34m.\u001b[0m\u001b[0mvalues\u001b[0m\u001b[0;34m(\u001b[0m\u001b[0;34m)\u001b[0m\u001b[0;34m,\u001b[0m\u001b[0;34m\u001b[0m\u001b[0;34m\u001b[0m\u001b[0m\n",
            "\u001b[0;32m<ipython-input-46-9a5ed8a929ee>\u001b[0m in \u001b[0;36mforward\u001b[0;34m(self, body, body_len, headline, headline_len)\u001b[0m\n\u001b[1;32m     96\u001b[0m         \u001b[0;32melse\u001b[0m\u001b[0;34m:\u001b[0m\u001b[0;34m\u001b[0m\u001b[0;34m\u001b[0m\u001b[0m\n\u001b[1;32m     97\u001b[0m           \u001b[0mx\u001b[0m \u001b[0;34m=\u001b[0m \u001b[0mout_reduced\u001b[0m\u001b[0;34m\u001b[0m\u001b[0;34m\u001b[0m\u001b[0m\n\u001b[0;32m---> 98\u001b[0;31m         \u001b[0mtext_fea\u001b[0m \u001b[0;34m=\u001b[0m \u001b[0mself\u001b[0m\u001b[0;34m.\u001b[0m\u001b[0mfc_headline\u001b[0m\u001b[0;34m(\u001b[0m\u001b[0mx\u001b[0m\u001b[0;34m)\u001b[0m\u001b[0;34m\u001b[0m\u001b[0;34m\u001b[0m\u001b[0m\n\u001b[0m\u001b[1;32m     99\u001b[0m         \u001b[0;31m# text_fea = torch.squeeze(self.fc_headline(self.drop(out_reduced)),1)\u001b[0m\u001b[0;34m\u001b[0m\u001b[0;34m\u001b[0m\u001b[0;34m\u001b[0m\u001b[0m\n\u001b[1;32m    100\u001b[0m         \u001b[0mheadline_out\u001b[0m \u001b[0;34m=\u001b[0m \u001b[0mtorch\u001b[0m\u001b[0;34m.\u001b[0m\u001b[0msigmoid\u001b[0m\u001b[0;34m(\u001b[0m\u001b[0mtext_fea\u001b[0m\u001b[0;34m)\u001b[0m \u001b[0;31m# activation\u001b[0m\u001b[0;34m\u001b[0m\u001b[0;34m\u001b[0m\u001b[0m\n",
            "\u001b[0;31mKeyboardInterrupt\u001b[0m: "
          ]
        }
      ]
    },
    {
      "cell_type": "code",
      "metadata": {
        "colab": {
          "base_uri": "https://localhost:8080/"
        },
        "id": "GFFLGtOw4wKJ",
        "outputId": "85338b14-c029-4cb3-ae32-5dd3c33cd882"
      },
      "source": [
        "res = metric_on_loader(model, test_loader, FNC_metric)\n",
        "print(res)"
      ],
      "execution_count": 66,
      "outputs": [
        {
          "output_type": "stream",
          "text": [
            "15040.0\n"
          ],
          "name": "stdout"
        }
      ]
    },
    {
      "cell_type": "markdown",
      "metadata": {
        "id": "9Nc0lyLKWzm4"
      },
      "source": [
        "## Results"
      ]
    },
    {
      "cell_type": "markdown",
      "metadata": {
        "id": "IVZEMnvDLY2p"
      },
      "source": [
        "## FNC Metric"
      ]
    },
    {
      "cell_type": "code",
      "metadata": {
        "colab": {
          "base_uri": "https://localhost:8080/",
          "height": 296
        },
        "id": "IbO3fs_kLbVN",
        "outputId": "6a3bf7b2-3dfb-46f2-ef69-d22575688b59"
      },
      "source": [
        "plot_FNC_metric = torch.load(destination_folder + '/FNC_metric.pt')['FNC_metric']\n",
        "plt.plot(plot_FNC_metric)\n",
        "plt.xlabel('Global Steps')\n",
        "plt.ylabel('FNC_metric on the test set')\n",
        "plt.legend()\n",
        "plt.show() "
      ],
      "execution_count": 67,
      "outputs": [
        {
          "output_type": "stream",
          "text": [
            "No handles with labels found to put in legend.\n"
          ],
          "name": "stderr"
        },
        {
          "output_type": "display_data",
          "data": {
            "image/png": "[encoded data removed]",
            "text/plain": [
              "<Figure size 432x288 with 1 Axes>"
            ]
          },
          "metadata": {
            "tags": [],
            "needs_background": "light"
          }
        }
      ]
    },
    {
      "cell_type": "markdown",
      "metadata": {
        "id": "4xK3phy1m69B"
      },
      "source": [
        "## Loss"
      ]
    },
    {
      "cell_type": "code",
      "metadata": {
        "id": "RdLSv36p2YVV",
        "colab": {
          "base_uri": "https://localhost:8080/",
          "height": 296
        },
        "outputId": "4334d80b-8233-4f32-b12f-4f3e0fbaf543"
      },
      "source": [
        "train_loss_list, valid_loss_list, global_steps_list = load_metrics(destination_folder + '/metrics.pt')\n",
        "plt.plot(global_steps_list, train_loss_list, label='Train')\n",
        "plt.plot(global_steps_list, valid_loss_list, label='Valid')\n",
        "plt.xlabel('Global Steps')\n",
        "plt.ylabel('Loss')\n",
        "plt.legend()\n",
        "plt.show() "
      ],
      "execution_count": 59,
      "outputs": [
        {
          "output_type": "stream",
          "text": [
            "Model loaded from <== data/LSTM_training/metrics.pt\n"
          ],
          "name": "stdout"
        },
        {
          "output_type": "display_data",
          "data": {
            "image/png": "[encoded data removed]",
            "text/plain": [
              "<Figure size 432x288 with 1 Axes>"
            ]
          },
          "metadata": {
            "tags": [],
            "needs_background": "light"
          }
        }
      ]
    },
    {
      "cell_type": "markdown",
      "metadata": {
        "id": "BoEkOn4UUcIk"
      },
      "source": [
        "## Accuracy per class: Train"
      ]
    },
    {
      "cell_type": "code",
      "metadata": {
        "colab": {
          "base_uri": "https://localhost:8080/",
          "height": 295
        },
        "id": "tLs2c0JlUlS-",
        "outputId": "971ff03c-8879-4396-ea0b-9358cad43ae1"
      },
      "source": [
        "accu_c = torch.load(destination_folder+'/accuracy_per_class.pt', map_location='cpu')\n",
        "res = accu_c['accuracy_class_train']\n",
        "total = [0,0,0,0]\n",
        "N_max = len(train_loader)\n",
        "for i, b in enumerate(train_loader):\n",
        "  if i == N_max: break\n",
        "  x = b.stance.detach().to('cpu').numpy()\n",
        "  for c in range(4):\n",
        "    total[c] += (x==c).sum()\n",
        "\n",
        "to_plot = np.array(res) / np.array(total)\n",
        "to_plot = to_plot.T\n",
        "\n",
        "labels_dict = {'unrelated':0, 'agree':1, 'disagree':2, 'discuss':3}\n",
        "labels_names = {0:'unrelated', 1:'agree', 2:'disagree', 3:'discuss'}\n",
        "names = [labels_names[i] for i in range(4)]\n",
        "\n",
        "for i, n in enumerate(names):\n",
        "  plt.plot(to_plot[i,:], label=n)\n",
        "\n",
        "plt.xlabel('Global Steps')\n",
        "plt.ylabel('Accuracy')\n",
        "plt.title('Accuracy per class: Train')\n",
        "plt.legend()\n",
        "plt.show() "
      ],
      "execution_count": 68,
      "outputs": [
        {
          "output_type": "display_data",
          "data": {
            "image/png": "[encoded data removed]",
            "text/plain": [
              "<Figure size 432x288 with 1 Axes>"
            ]
          },
          "metadata": {
            "tags": [],
            "needs_background": "light"
          }
        }
      ]
    },
    {
      "cell_type": "markdown",
      "metadata": {
        "id": "GxBrdbFJUgO3"
      },
      "source": [
        "## Accuracy per class: Validation"
      ]
    },
    {
      "cell_type": "code",
      "metadata": {
        "colab": {
          "base_uri": "https://localhost:8080/",
          "height": 295
        },
        "id": "-17Hk0bLOOLC",
        "outputId": "0f72b71d-4a8a-4b00-d136-6e7caa3406fb"
      },
      "source": [
        "res = accu_c['accuracy_class']\n",
        "total = [0,0,0,0]\n",
        "N_max = len(test_loader)\n",
        "for i, b in enumerate(test_loader):\n",
        "  if i == N_max: break\n",
        "  x = b.stance.detach().to('cpu').numpy()\n",
        "  for c in range(4):\n",
        "    total[c] += (x==c).sum()\n",
        "\n",
        "to_plot = np.array(res) / np.array(total)\n",
        "to_plot = to_plot.T\n",
        "\n",
        "for i, n in enumerate(names):\n",
        "  plt.plot(to_plot[i,:], label=n)\n",
        "\n",
        "plt.xlabel('Global Steps')\n",
        "plt.ylabel('Accuracy')\n",
        "plt.legend()\n",
        "plt.title('Accuracy per class: Validation')\n",
        "plt.show() "
      ],
      "execution_count": 69,
      "outputs": [
        {
          "output_type": "display_data",
          "data": {
            "image/png": "[encoded data removed]",
            "text/plain": [
              "<Figure size 432x288 with 1 Axes>"
            ]
          },
          "metadata": {
            "tags": [],
            "needs_background": "light"
          }
        }
      ]
    },
    {
      "cell_type": "markdown",
      "metadata": {
        "id": "3MRIyzRum_va"
      },
      "source": [
        "## Confusion matrices"
      ]
    },
    {
      "cell_type": "code",
      "metadata": {
        "id": "P-caoeBJSdOP",
        "colab": {
          "base_uri": "https://localhost:8080/",
          "height": 458
        },
        "outputId": "bc031cc9-f70c-4558-d146-b8de19f5cc7d"
      },
      "source": [
        "conf_matrices = torch.load(destination_folder+'/conf_matrices.pt', map_location='cpu')\n",
        "train_conf = conf_matrices['conf_train']\n",
        "\n",
        "# Select coordinates of the matrix to plot over the training\n",
        "# format is (True, Predicted)\n",
        "show_accuracy = [('unrelated', 'unrelated'), ('agree','agree'), ('disagree','disagree'), ('discuss','discuss')]\n",
        "divide_by = 'none'\n",
        "\n",
        "\n",
        "plt.figure(figsize=(10,7))\n",
        "labels_dict = {'unrelated':0, 'agree':1, 'disagree':2, 'discuss':3}\n",
        "for t,p in show_accuracy:\n",
        "  x, y =  labels_dict[t], labels_dict[p]\n",
        "  \n",
        "  # Define numerator\n",
        "  num = lambda M, x, y: M[x,y]\n",
        "\n",
        "  # Define denominator\n",
        "  den = lambda M, x, y: 1.0\n",
        "  if divide_by == 'row':\n",
        "    den = lambda M, x, y: M[x,:].sum()\n",
        "  elif divide_by == 'col':\n",
        "    den = lambda M, x, y: M[:,y].sum()\n",
        "\n",
        "  z = [num(C, x, y)/den(C,x,y) for C in train_conf]\n",
        "  plt.plot(z, label = '-'.join([t[:4], p[:4]]))\n",
        "\n",
        "plt.xlabel('Global Steps')\n",
        "# plt.ylabel('Accuracy on each class')\n",
        "plt.legend()\n",
        "plt.title('Evolution of confusion matrix')\n",
        "plt.show() "
      ],
      "execution_count": 70,
      "outputs": [
        {
          "output_type": "display_data",
          "data": {
            "image/png": "[encoded data removed]",
            "text/plain": [
              "<Figure size 720x504 with 1 Axes>"
            ]
          },
          "metadata": {
            "tags": [],
            "needs_background": "light"
          }
        }
      ]
    }
  ]
}